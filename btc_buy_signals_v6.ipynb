{
  "cells": [
    {
      "cell_type": "markdown",
      "source": [
        "## BTC Buy Signals PyTorch demo"
      ],
      "metadata": {
        "id": "2VLJC3wpbTNZ"
      },
      "id": "2VLJC3wpbTNZ"
    },
    {
      "cell_type": "markdown",
      "source": [
        "by Sergey Kuznetsov \n",
        "\n",
        "(github: @mousehead, email: sk@imap.cc)"
      ],
      "metadata": {
        "id": "GCTFDg8KbUKs"
      },
      "id": "GCTFDg8KbUKs"
    },
    {
      "cell_type": "markdown",
      "source": [
        "***Notice***: this is a research project only to explore time series and play with PyTorch. If I were you I would not bring it to production. There's some discussion at the end of this notebook"
      ],
      "metadata": {
        "id": "IorJvPrqbimq"
      },
      "id": "IorJvPrqbimq"
    },
    {
      "cell_type": "markdown",
      "source": [
        "#### Objective:\n",
        "given only only BTCUSD price history with a time resolution of 1 minute, build a neural network and a trading algorithm on top of it that would predict whether it's a good idea to briefly buy BTC (for 3 minutes) and then immediately sell it.\n",
        "\n",
        "#### Limitations:\n",
        "no data other than the price data itself is used, not even volume or the weekday. moreover, the model only takes into the account a sequence of 60 (i.e. 1 hour) when making a prediction.\n",
        "\n",
        "#### Precautions:\n",
        "the most important thing is to split and process data correctly to avoid any forward-looking (i.e. looking into the future) data leaks."
      ],
      "metadata": {
        "id": "33DuyWPTbzov"
      },
      "id": "33DuyWPTbzov"
    },
    {
      "cell_type": "markdown",
      "source": [
        "## Importing everything"
      ],
      "metadata": {
        "id": "I6Q2033xn8Lw"
      },
      "id": "I6Q2033xn8Lw"
    },
    {
      "cell_type": "code",
      "source": [
        "from google.colab import drive\n",
        "drive.mount('/content/drive')"
      ],
      "metadata": {
        "colab": {
          "base_uri": "https://localhost:8080/"
        },
        "id": "A91uE7D3nbhC",
        "outputId": "17dd03f5-cf49-4698-e177-b4b92b6d901a"
      },
      "id": "A91uE7D3nbhC",
      "execution_count": 2,
      "outputs": [
        {
          "output_type": "stream",
          "name": "stdout",
          "text": [
            "Mounted at /content/drive\n"
          ]
        }
      ]
    },
    {
      "cell_type": "code",
      "execution_count": 4,
      "id": "1f02dd5c",
      "metadata": {
        "id": "1f02dd5c",
        "colab": {
          "base_uri": "https://localhost:8080/"
        },
        "outputId": "739cd99d-f88b-42de-d7ad-c80ef9b72fa4"
      },
      "outputs": [
        {
          "output_type": "stream",
          "name": "stdout",
          "text": [
            "torch==2.0.1+cu118\n",
            "device==cuda\n"
          ]
        }
      ],
      "source": [
        "import numpy as np\n",
        "import pandas as pd\n",
        "import torch\n",
        "from torch.utils.data import DataLoader, TensorDataset, random_split\n",
        "from fastai.data.core import DataLoaders\n",
        "from matplotlib import pyplot as plt\n",
        "import torch\n",
        "\n",
        "device = torch.device(\"cuda\" if torch.cuda.is_available() else \"cpu\")\n",
        "\n",
        "print(f'torch=={torch.__version__}')\n",
        "print(f'device=={device}')"
      ]
    },
    {
      "cell_type": "markdown",
      "source": [
        "## Loading data"
      ],
      "metadata": {
        "id": "iNglPqD-n5Gh"
      },
      "id": "iNglPqD-n5Gh"
    },
    {
      "cell_type": "code",
      "source": [
        "fpaths = ['drive/MyDrive/BTC-2021min.csv',\n",
        "          'drive/MyDrive/BTC-2020min.csv',\n",
        "          'drive/MyDrive/BTC-2019min.csv',\n",
        "          'drive/MyDrive/BTC-2018min.csv',\n",
        "          'drive/MyDrive/BTC-2017min.csv'\n",
        "          ]\n",
        "\n",
        "dfs = [pd.read_csv(fpath) for fpath in fpaths]\n",
        "df = pd.concat(dfs)\n",
        "df.reset_index(inplace=True, drop=True)\n",
        "df = df.iloc[reversed(df.index)].reset_index(inplace=False)\n",
        "df.shape"
      ],
      "metadata": {
        "colab": {
          "base_uri": "https://localhost:8080/"
        },
        "id": "G8vJma3ps_S-",
        "outputId": "968c2596-7f85-434a-c8ef-0051cb7b7c76"
      },
      "id": "G8vJma3ps_S-",
      "execution_count": 5,
      "outputs": [
        {
          "output_type": "execute_result",
          "data": {
            "text/plain": [
              "(2675301, 10)"
            ]
          },
          "metadata": {},
          "execution_count": 5
        }
      ]
    },
    {
      "cell_type": "code",
      "execution_count": 6,
      "id": "fb19c35e",
      "metadata": {
        "colab": {
          "base_uri": "https://localhost:8080/",
          "height": 354
        },
        "id": "fb19c35e",
        "outputId": "e7d44b89-84ff-4906-f2c3-6928bb728f80"
      },
      "outputs": [
        {
          "output_type": "execute_result",
          "data": {
            "text/plain": [
              "     index        unix                 date   symbol    open    high     low  \\\n",
              "0  2675300  1483228860  2017-01-01 00:01:00  BTC/USD  966.34  966.34  966.34   \n",
              "1  2675299  1483228920  2017-01-01 00:02:00  BTC/USD  966.16  966.37  966.16   \n",
              "2  2675298  1483228980  2017-01-01 00:03:00  BTC/USD  966.37  966.37  966.37   \n",
              "3  2675297  1483229040  2017-01-01 00:04:00  BTC/USD  966.37  966.37  966.37   \n",
              "4  2675296  1483229100  2017-01-01 00:05:00  BTC/USD  966.43  966.43  966.43   \n",
              "\n",
              "    close  Volume BTC   Volume USD  \n",
              "0  966.34    7.610000  7353.847400  \n",
              "1  966.37    8.087376  7815.397864  \n",
              "2  966.37    0.000000     0.000000  \n",
              "3  966.37    0.000000     0.000000  \n",
              "4  966.43    0.107000   103.408010  "
            ],
            "text/html": [
              "\n",
              "  <div id=\"df-9422389e-fac5-40f7-a797-5257768760a9\">\n",
              "    <div class=\"colab-df-container\">\n",
              "      <div>\n",
              "<style scoped>\n",
              "    .dataframe tbody tr th:only-of-type {\n",
              "        vertical-align: middle;\n",
              "    }\n",
              "\n",
              "    .dataframe tbody tr th {\n",
              "        vertical-align: top;\n",
              "    }\n",
              "\n",
              "    .dataframe thead th {\n",
              "        text-align: right;\n",
              "    }\n",
              "</style>\n",
              "<table border=\"1\" class=\"dataframe\">\n",
              "  <thead>\n",
              "    <tr style=\"text-align: right;\">\n",
              "      <th></th>\n",
              "      <th>index</th>\n",
              "      <th>unix</th>\n",
              "      <th>date</th>\n",
              "      <th>symbol</th>\n",
              "      <th>open</th>\n",
              "      <th>high</th>\n",
              "      <th>low</th>\n",
              "      <th>close</th>\n",
              "      <th>Volume BTC</th>\n",
              "      <th>Volume USD</th>\n",
              "    </tr>\n",
              "  </thead>\n",
              "  <tbody>\n",
              "    <tr>\n",
              "      <th>0</th>\n",
              "      <td>2675300</td>\n",
              "      <td>1483228860</td>\n",
              "      <td>2017-01-01 00:01:00</td>\n",
              "      <td>BTC/USD</td>\n",
              "      <td>966.34</td>\n",
              "      <td>966.34</td>\n",
              "      <td>966.34</td>\n",
              "      <td>966.34</td>\n",
              "      <td>7.610000</td>\n",
              "      <td>7353.847400</td>\n",
              "    </tr>\n",
              "    <tr>\n",
              "      <th>1</th>\n",
              "      <td>2675299</td>\n",
              "      <td>1483228920</td>\n",
              "      <td>2017-01-01 00:02:00</td>\n",
              "      <td>BTC/USD</td>\n",
              "      <td>966.16</td>\n",
              "      <td>966.37</td>\n",
              "      <td>966.16</td>\n",
              "      <td>966.37</td>\n",
              "      <td>8.087376</td>\n",
              "      <td>7815.397864</td>\n",
              "    </tr>\n",
              "    <tr>\n",
              "      <th>2</th>\n",
              "      <td>2675298</td>\n",
              "      <td>1483228980</td>\n",
              "      <td>2017-01-01 00:03:00</td>\n",
              "      <td>BTC/USD</td>\n",
              "      <td>966.37</td>\n",
              "      <td>966.37</td>\n",
              "      <td>966.37</td>\n",
              "      <td>966.37</td>\n",
              "      <td>0.000000</td>\n",
              "      <td>0.000000</td>\n",
              "    </tr>\n",
              "    <tr>\n",
              "      <th>3</th>\n",
              "      <td>2675297</td>\n",
              "      <td>1483229040</td>\n",
              "      <td>2017-01-01 00:04:00</td>\n",
              "      <td>BTC/USD</td>\n",
              "      <td>966.37</td>\n",
              "      <td>966.37</td>\n",
              "      <td>966.37</td>\n",
              "      <td>966.37</td>\n",
              "      <td>0.000000</td>\n",
              "      <td>0.000000</td>\n",
              "    </tr>\n",
              "    <tr>\n",
              "      <th>4</th>\n",
              "      <td>2675296</td>\n",
              "      <td>1483229100</td>\n",
              "      <td>2017-01-01 00:05:00</td>\n",
              "      <td>BTC/USD</td>\n",
              "      <td>966.43</td>\n",
              "      <td>966.43</td>\n",
              "      <td>966.43</td>\n",
              "      <td>966.43</td>\n",
              "      <td>0.107000</td>\n",
              "      <td>103.408010</td>\n",
              "    </tr>\n",
              "  </tbody>\n",
              "</table>\n",
              "</div>\n",
              "      <button class=\"colab-df-convert\" onclick=\"convertToInteractive('df-9422389e-fac5-40f7-a797-5257768760a9')\"\n",
              "              title=\"Convert this dataframe to an interactive table.\"\n",
              "              style=\"display:none;\">\n",
              "        \n",
              "  <svg xmlns=\"http://www.w3.org/2000/svg\" height=\"24px\"viewBox=\"0 0 24 24\"\n",
              "       width=\"24px\">\n",
              "    <path d=\"M0 0h24v24H0V0z\" fill=\"none\"/>\n",
              "    <path d=\"M18.56 5.44l.94 2.06.94-2.06 2.06-.94-2.06-.94-.94-2.06-.94 2.06-2.06.94zm-11 1L8.5 8.5l.94-2.06 2.06-.94-2.06-.94L8.5 2.5l-.94 2.06-2.06.94zm10 10l.94 2.06.94-2.06 2.06-.94-2.06-.94-.94-2.06-.94 2.06-2.06.94z\"/><path d=\"M17.41 7.96l-1.37-1.37c-.4-.4-.92-.59-1.43-.59-.52 0-1.04.2-1.43.59L10.3 9.45l-7.72 7.72c-.78.78-.78 2.05 0 2.83L4 21.41c.39.39.9.59 1.41.59.51 0 1.02-.2 1.41-.59l7.78-7.78 2.81-2.81c.8-.78.8-2.07 0-2.86zM5.41 20L4 18.59l7.72-7.72 1.47 1.35L5.41 20z\"/>\n",
              "  </svg>\n",
              "      </button>\n",
              "      \n",
              "  <style>\n",
              "    .colab-df-container {\n",
              "      display:flex;\n",
              "      flex-wrap:wrap;\n",
              "      gap: 12px;\n",
              "    }\n",
              "\n",
              "    .colab-df-convert {\n",
              "      background-color: #E8F0FE;\n",
              "      border: none;\n",
              "      border-radius: 50%;\n",
              "      cursor: pointer;\n",
              "      display: none;\n",
              "      fill: #1967D2;\n",
              "      height: 32px;\n",
              "      padding: 0 0 0 0;\n",
              "      width: 32px;\n",
              "    }\n",
              "\n",
              "    .colab-df-convert:hover {\n",
              "      background-color: #E2EBFA;\n",
              "      box-shadow: 0px 1px 2px rgba(60, 64, 67, 0.3), 0px 1px 3px 1px rgba(60, 64, 67, 0.15);\n",
              "      fill: #174EA6;\n",
              "    }\n",
              "\n",
              "    [theme=dark] .colab-df-convert {\n",
              "      background-color: #3B4455;\n",
              "      fill: #D2E3FC;\n",
              "    }\n",
              "\n",
              "    [theme=dark] .colab-df-convert:hover {\n",
              "      background-color: #434B5C;\n",
              "      box-shadow: 0px 1px 3px 1px rgba(0, 0, 0, 0.15);\n",
              "      filter: drop-shadow(0px 1px 2px rgba(0, 0, 0, 0.3));\n",
              "      fill: #FFFFFF;\n",
              "    }\n",
              "  </style>\n",
              "\n",
              "      <script>\n",
              "        const buttonEl =\n",
              "          document.querySelector('#df-9422389e-fac5-40f7-a797-5257768760a9 button.colab-df-convert');\n",
              "        buttonEl.style.display =\n",
              "          google.colab.kernel.accessAllowed ? 'block' : 'none';\n",
              "\n",
              "        async function convertToInteractive(key) {\n",
              "          const element = document.querySelector('#df-9422389e-fac5-40f7-a797-5257768760a9');\n",
              "          const dataTable =\n",
              "            await google.colab.kernel.invokeFunction('convertToInteractive',\n",
              "                                                     [key], {});\n",
              "          if (!dataTable) return;\n",
              "\n",
              "          const docLinkHtml = 'Like what you see? Visit the ' +\n",
              "            '<a target=\"_blank\" href=https://colab.research.google.com/notebooks/data_table.ipynb>data table notebook</a>'\n",
              "            + ' to learn more about interactive tables.';\n",
              "          element.innerHTML = '';\n",
              "          dataTable['output_type'] = 'display_data';\n",
              "          await google.colab.output.renderOutput(dataTable, element);\n",
              "          const docLink = document.createElement('div');\n",
              "          docLink.innerHTML = docLinkHtml;\n",
              "          element.appendChild(docLink);\n",
              "        }\n",
              "      </script>\n",
              "    </div>\n",
              "  </div>\n",
              "  "
            ]
          },
          "metadata": {},
          "execution_count": 6
        }
      ],
      "source": [
        "df.head()"
      ]
    },
    {
      "cell_type": "code",
      "execution_count": 7,
      "id": "cdb309d8",
      "metadata": {
        "colab": {
          "base_uri": "https://localhost:8080/",
          "height": 480
        },
        "id": "cdb309d8",
        "outputId": "55c919d2-7b87-40f1-f581-2d8911d740c6"
      },
      "outputs": [
        {
          "output_type": "execute_result",
          "data": {
            "text/plain": [
              "[<matplotlib.lines.Line2D at 0x7f38d442e440>]"
            ]
          },
          "metadata": {},
          "execution_count": 7
        },
        {
          "output_type": "display_data",
          "data": {
            "text/plain": [
              "<Figure size 640x480 with 1 Axes>"
            ],
            "image/png": "[encoded data removed]"
          },
          "metadata": {}
        }
      ],
      "source": [
        "plt.plot(df['unix'])\n",
        "# there's a time gap, but this won't be an issue and will only ruin one batch of data \n",
        "# out of thousands of batches\n",
        "# so for a baseline solution we won't bother mitigating it\n",
        "# and will consider time to be linear"
      ]
    },
    {
      "cell_type": "markdown",
      "source": [
        "## Designing the target"
      ],
      "metadata": {
        "id": "SXR7Va9uoNdo"
      },
      "id": "SXR7Va9uoNdo"
    },
    {
      "cell_type": "code",
      "source": [
        "# we want to predict whether the price will rise in 3 minutes\n",
        "# (which is 3 rows for this dataset)\n",
        "SELL_LAG = 3"
      ],
      "metadata": {
        "id": "9q_FyWnjods1"
      },
      "id": "9q_FyWnjods1",
      "execution_count": 143,
      "outputs": []
    },
    {
      "cell_type": "code",
      "execution_count": 145,
      "id": "331e4499",
      "metadata": {
        "id": "331e4499",
        "colab": {
          "base_uri": "https://localhost:8080/"
        },
        "outputId": "fb7cfaec-68ed-4d7f-dc93-2da5b3cb38fd"
      },
      "outputs": [
        {
          "output_type": "stream",
          "name": "stdout",
          "text": [
            "0.49661365207129965 0.17444130585679893\n"
          ]
        }
      ],
      "source": [
        "# up==1 if price has grown since 3 minutes ago\n",
        "df['up'] = ((df['open']/df['open'].shift(+SELL_LAG)) > 1.000).astype(int)\n",
        "\n",
        "# strong_up==1 if price has grown since 3 minutes ago SIGNIFICANTLY enough\n",
        "df['strong_up'] = ((df['open']/df['open'].shift(+SELL_LAG)) > 1.0012).astype(int)\n",
        "\n",
        "# as you would expect, `up` is somewhat evenly distributed but `strong_up` is rare \n",
        "print(df['up'].mean(), df['strong_up'].mean())"
      ]
    },
    {
      "cell_type": "code",
      "source": [
        "# NOTE: shift(+3) does not bring any leaks from the future, to the contrary, \n",
        "# shift(+3) brings up data from the past, specifically 3 minutes earlier"
      ],
      "metadata": {
        "id": "TD7dC79wcusl"
      },
      "id": "TD7dC79wcusl",
      "execution_count": 215,
      "outputs": []
    },
    {
      "cell_type": "markdown",
      "source": [
        "## Train-validation-test split"
      ],
      "metadata": {
        "id": "vEhtRza1paKA"
      },
      "id": "vEhtRza1paKA"
    },
    {
      "cell_type": "code",
      "source": [
        "# we have no choice but to split them sequentially, so that valid goes AFTER the train, \n",
        "# and test goes AFTER the valid\n",
        "\n",
        "# the key thing we want to avoid here is the forward-looking leaks\n",
        "# this means ensuring the model never sees the data from the future while learning on the past\n",
        "# but also that the batches are constructed properly (more on that later)\n",
        "\n",
        "print(f'total rows: {df.shape[0]}')  # ~2.67 mln"
      ],
      "metadata": {
        "colab": {
          "base_uri": "https://localhost:8080/"
        },
        "id": "-OirJVAfwMNH",
        "outputId": "c2cabc87-e44e-4fcb-a39b-7fe3231a9791"
      },
      "id": "-OirJVAfwMNH",
      "execution_count": 216,
      "outputs": [
        {
          "output_type": "stream",
          "name": "stdout",
          "text": [
            "total rows: 2675301\n"
          ]
        }
      ]
    },
    {
      "cell_type": "code",
      "execution_count": 147,
      "id": "139e9e22",
      "metadata": {
        "colab": {
          "base_uri": "https://localhost:8080/"
        },
        "id": "139e9e22",
        "outputId": "d5e313e5-104a-4cd3-c83d-ce76edd1b28f"
      },
      "outputs": [
        {
          "output_type": "execute_result",
          "data": {
            "text/plain": [
              "((1800000, 12), (500000, 12), (375301, 12))"
            ]
          },
          "metadata": {},
          "execution_count": 147
        }
      ],
      "source": [
        "VALID_STARTS = 1800*1000\n",
        "TEST_STARTS = 2300*1000\n",
        "\n",
        "df_train = df.iloc[:VALID_STARTS]\n",
        "df_valid = df.iloc[VALID_STARTS:TEST_STARTS]\n",
        "df_test = df.iloc[TEST_STARTS:]\n",
        "\n",
        "df_train.shape, df_valid.shape, df_test.shape"
      ]
    },
    {
      "cell_type": "code",
      "execution_count": 148,
      "id": "721ff481",
      "metadata": {
        "colab": {
          "base_uri": "https://localhost:8080/"
        },
        "id": "721ff481",
        "outputId": "609fbce2-15df-4c2e-8bda-2bb9be44858c"
      },
      "outputs": [
        {
          "output_type": "stream",
          "name": "stdout",
          "text": [
            "0.4955, 0.4995, 0.4984\n",
            "0.1773, 0.1713, 0.1650\n"
          ]
        }
      ],
      "source": [
        "# of course, this makes distributions (even the distribution of the target variables)\n",
        "# uneven between the splits\n",
        "\n",
        "print(f\"{df_train['up'].mean():.4f}, {df_valid['up'].mean():.4f}, {df_test['up'].mean():.4f}\")\n",
        "print(f\"{df_train['strong_up'].mean():.4f}, {df_valid['strong_up'].mean():.4f}, {df_test['strong_up'].mean():.4f}\")\n",
        "\n",
        "# but we'll have to work with this,\n",
        "# it is still the only sensible way to split, forward-looking leaks are unacceptable"
      ]
    },
    {
      "cell_type": "markdown",
      "source": [
        "## Writing our own dataset with overloaded obj[i] and len(obj)"
      ],
      "metadata": {
        "id": "4U_hIT3cswvi"
      },
      "id": "4U_hIT3cswvi"
    },
    {
      "cell_type": "code",
      "execution_count": 149,
      "id": "f913d225",
      "metadata": {
        "id": "f913d225"
      },
      "outputs": [],
      "source": [
        "class TimeSeriesDataset(torch.utils.data.Dataset):\n",
        "    def __init__(self, X, y, y1, t, sequence_length, lag):\n",
        "        self.X = X      # sequence features to feed the model\n",
        "        self.y = y      # target to predict (\"strong_up\" in our case)\n",
        "        self.y1 = y1    # additional target to evaluate strategy (\"up\" in our case)\n",
        "        self.t = t      # unix time stored just in case\n",
        "        self.sequence_length = sequence_length\n",
        "        self.lag = lag  # we're gonna predict the target from the nearest future (\"lag\" minutes into the future)\n",
        "\n",
        "    def __len__(self):\n",
        "        return len(self.X) - self.sequence_length - self.lag  # ensure we can create complete sequences\n",
        "\n",
        "    def __getitem__(self, index):\n",
        "        return (\n",
        "            self.X[index:index+self.sequence_length],\n",
        "            # note that we're returning the y corresponding to the last element of the sequence,\n",
        "            # but this means that we're predicting whether the price will increase in 3 minutes since that last elements,\n",
        "            self.y[index+self.sequence_length+self.lag-1],\n",
        "            )"
      ]
    },
    {
      "cell_type": "markdown",
      "source": [],
      "metadata": {
        "id": "0ZAKfTyJtCOr"
      },
      "id": "0ZAKfTyJtCOr"
    },
    {
      "cell_type": "code",
      "execution_count": 150,
      "id": "4aea90c5",
      "metadata": {
        "id": "4aea90c5",
        "colab": {
          "base_uri": "https://localhost:8080/"
        },
        "outputId": "05f1648b-3cf7-4113-982b-697afb864ea4"
      },
      "outputs": [
        {
          "output_type": "stream",
          "name": "stdout",
          "text": [
            "[[10  0]\n",
            " [10  0]\n",
            " [10  0]\n",
            " [10  0]\n",
            " [ 9  0]\n",
            " [ 9  0]\n",
            " [ 9  0]\n",
            " [12  1]\n",
            " [12  1]\n",
            " [12  1]\n",
            " [12  0]\n",
            " [10  0]\n",
            " [11  0]\n",
            " [11  0]\n",
            " [11  1]\n",
            " [12  1]\n",
            " [11  0]\n",
            " [ 8  0]\n",
            " [ 9  0]\n",
            " [ 9  0]\n",
            " [ 9  1]]\n"
          ]
        }
      ],
      "source": [
        "sample_price = pd.Series([10, 10, 10, 10, 9, 9, 9, 12, 12, 12, 12, 10, 11, 11, 11, 12, 11, 8, 9, 9, 9])\n",
        "sample_up = ((sample_price/sample_price.shift(+SELL_LAG)) > 1.001).astype(int)\n",
        "sample_X = torch.tensor(sample_price.to_numpy().reshape(-1, 1))\n",
        "sample_Y = torch.tensor(sample_up.to_numpy())\n",
        "sample_tsds = TimeSeriesDataset(X=sample_X,\n",
        "                                y=sample_Y,\n",
        "                                y1=sample_Y,   #  these two won't be used in this example, but we have to pass them\n",
        "                                t=sample_Y,    #  these two won't be used in this example, but we have to pass them\n",
        "                                sequence_length=4, \n",
        "                                lag=SELL_LAG)\n",
        "\n",
        "print(np.vstack([sample_X.flatten().numpy(), sample_Y.numpy()]).transpose())"
      ]
    },
    {
      "cell_type": "code",
      "source": [
        "# 1 in the right column means the price has gone up, so far the data makes sense\n",
        "# let's se how it's gonna be batched"
      ],
      "metadata": {
        "id": "cji4lPuyvd8c"
      },
      "id": "cji4lPuyvd8c",
      "execution_count": 151,
      "outputs": []
    },
    {
      "cell_type": "code",
      "execution_count": 152,
      "id": "5e612f55",
      "metadata": {
        "colab": {
          "base_uri": "https://localhost:8080/"
        },
        "id": "5e612f55",
        "outputId": "9e374f7e-895e-4376-bce9-32d7145827ab"
      },
      "outputs": [
        {
          "output_type": "stream",
          "name": "stdout",
          "text": [
            "tensor([[[10],\n",
            "         [10],\n",
            "         [10],\n",
            "         [10]],\n",
            "\n",
            "        [[10],\n",
            "         [10],\n",
            "         [10],\n",
            "         [ 9]],\n",
            "\n",
            "        [[10],\n",
            "         [10],\n",
            "         [ 9],\n",
            "         [ 9]],\n",
            "\n",
            "        [[10],\n",
            "         [ 9],\n",
            "         [ 9],\n",
            "         [ 9]],\n",
            "\n",
            "        [[ 9],\n",
            "         [ 9],\n",
            "         [ 9],\n",
            "         [12]],\n",
            "\n",
            "        [[ 9],\n",
            "         [ 9],\n",
            "         [12],\n",
            "         [12]],\n",
            "\n",
            "        [[ 9],\n",
            "         [12],\n",
            "         [12],\n",
            "         [12]],\n",
            "\n",
            "        [[12],\n",
            "         [12],\n",
            "         [12],\n",
            "         [12]]]) tensor([0, 1, 1, 1, 0, 0, 0, 0])\n"
          ]
        }
      ],
      "source": [
        "sample_dl = DataLoader(sample_tsds, batch_size=8)\n",
        "for xb, yb in sample_dl:\n",
        "    print(xb, yb)\n",
        "    break"
      ]
    },
    {
      "cell_type": "code",
      "source": [
        "# reminder: the full price history is [10, 10, 10, 10, 9, 9, 9, 12, 12, 12, 12, 10, 11, 11, 11, 12, 11, 8, 9, 9, 9]\n",
        "# this may not be very comprehensible, but this is what happens here:\n",
        "\n",
        "# 1. the first sequence of len 4: [10,10,10,10], does NOT lead to a price increase 3 items after this sequence's last item\n",
        "# [10*, 10*, 10*, 10*, 9, 9, 9†, 12, 12, 12, 12, 10, 11, 11, 11, 12, 11, 8, 9, 9, 9]\n",
        "\n",
        "# 2. the next sequence of len 4: [10,10,10,9], DOES lead to an increase 3 items later:\n",
        "# [10, 10*, 10*, 10*, 9*, 9, 9, 12†, 12, 12, 12, 10, 11, 11, 11, 12, 11, 8, 9, 9, 9]\n",
        "\n",
        "# thus, I verified the correct behavior of TimeSeriesDataset"
      ],
      "metadata": {
        "id": "2rswuwXL0o2e"
      },
      "id": "2rswuwXL0o2e",
      "execution_count": 153,
      "outputs": []
    },
    {
      "cell_type": "markdown",
      "source": [
        "## Creating datasets and dataloaders for our data"
      ],
      "metadata": {
        "id": "jVi724fQ0xJS"
      },
      "id": "jVi724fQ0xJS"
    },
    {
      "cell_type": "code",
      "execution_count": 154,
      "id": "37fd69e7",
      "metadata": {
        "id": "37fd69e7"
      },
      "outputs": [],
      "source": [
        "SEQUENCE_LEN = 60  # an hour\n",
        "BATCH_SIZE = 256  # our GPU can afford this\n",
        "\n",
        "train_tsds = TimeSeriesDataset(X=df_train['open'].to_numpy(dtype=np.float32).reshape(-1, 1), \n",
        "                               y=df_train['strong_up'].to_numpy(dtype=np.float32),  # training model to predict this\n",
        "                               y1=df_train['up'].to_numpy(dtype=np.float32),   # for evaluation purposes only, not training on this\n",
        "                               t=df_train['unix'].to_numpy(dtype=np.int32), \n",
        "                               sequence_length=SEQUENCE_LEN,\n",
        "                               lag=SELL_LAG)\n",
        "train_dl = DataLoader(train_tsds, batch_size=BATCH_SIZE)\n",
        "\n",
        "valid_tsds = TimeSeriesDataset(X=df_valid['open'].to_numpy(dtype=np.float32).reshape(-1, 1), \n",
        "                               y=df_valid['strong_up'].to_numpy(dtype=np.float32),\n",
        "                               y1=df_valid['up'].to_numpy(dtype=np.float32),\n",
        "                               t=df_valid['unix'].to_numpy(dtype=np.int32), \n",
        "                               sequence_length=SEQUENCE_LEN,\n",
        "                               lag=SELL_LAG)\n",
        "valid_dl = DataLoader(valid_tsds, batch_size=BATCH_SIZE)\n",
        "\n",
        "test_tsds = TimeSeriesDataset(X=df_test['open'].to_numpy(dtype=np.float32).reshape(-1, 1), \n",
        "                               y=df_test['strong_up'].to_numpy(dtype=np.float32),\n",
        "                               y1=df_test['up'].to_numpy(dtype=np.float32),\n",
        "                               t=df_test['unix'].to_numpy(dtype=np.int32), \n",
        "                               sequence_length=SEQUENCE_LEN,\n",
        "                               lag=SELL_LAG)\n",
        "test_dl = DataLoader(test_tsds, batch_size=BATCH_SIZE)"
      ]
    },
    {
      "cell_type": "code",
      "execution_count": 155,
      "id": "c8c2db25",
      "metadata": {
        "colab": {
          "base_uri": "https://localhost:8080/"
        },
        "id": "c8c2db25",
        "outputId": "fada8dde-9225-447e-c11e-89e51b0e82db"
      },
      "outputs": [
        {
          "output_type": "stream",
          "name": "stdout",
          "text": [
            "tensor([[[966.3400],\n",
            "         [966.1600],\n",
            "         [966.3700],\n",
            "         ...,\n",
            "         [966.6000],\n",
            "         [966.6000],\n",
            "         [966.6000]],\n",
            "\n",
            "        [[966.1600],\n",
            "         [966.3700],\n",
            "         [966.3700],\n",
            "         ...,\n",
            "         [966.6000],\n",
            "         [966.6000],\n",
            "         [966.6000]],\n",
            "\n",
            "        [[966.3700],\n",
            "         [966.3700],\n",
            "         [966.4300],\n",
            "         ...,\n",
            "         [966.6000],\n",
            "         [966.6000],\n",
            "         [966.6000]],\n",
            "\n",
            "        ...,\n",
            "\n",
            "        [[963.1500],\n",
            "         [963.1500],\n",
            "         [963.6400],\n",
            "         ...,\n",
            "         [963.0100],\n",
            "         [963.0100],\n",
            "         [963.0000]],\n",
            "\n",
            "        [[963.1500],\n",
            "         [963.6400],\n",
            "         [963.6400],\n",
            "         ...,\n",
            "         [963.0100],\n",
            "         [963.0000],\n",
            "         [963.0000]],\n",
            "\n",
            "        [[963.6400],\n",
            "         [963.6400],\n",
            "         [963.6400],\n",
            "         ...,\n",
            "         [963.0000],\n",
            "         [963.0000],\n",
            "         [963.0000]]]) tensor([0., 0., 0., 0., 0., 0., 0., 0., 0., 0., 0., 0., 0., 0., 1., 1., 0., 0.,\n",
            "        0., 0., 1., 0., 0., 0., 0., 0., 0., 0., 0., 0., 0., 0., 0., 0., 0., 0.,\n",
            "        0., 0., 0., 0., 0., 0., 0., 0., 0., 0., 0., 0., 0., 0., 0., 0., 0., 0.,\n",
            "        0., 0., 0., 0., 0., 0., 0., 0., 0., 0., 0., 0., 0., 0., 0., 0., 0., 0.,\n",
            "        0., 0., 0., 0., 0., 0., 0., 0., 0., 0., 0., 0., 0., 0., 0., 0., 0., 0.,\n",
            "        0., 0., 0., 0., 0., 0., 0., 0., 0., 0., 0., 0., 0., 0., 0., 1., 0., 0.,\n",
            "        0., 0., 0., 0., 0., 0., 0., 0., 0., 0., 0., 0., 0., 0., 0., 0., 0., 0.,\n",
            "        0., 0., 0., 0., 0., 0., 0., 0., 0., 0., 0., 0., 0., 0., 0., 0., 0., 0.,\n",
            "        0., 0., 0., 0., 0., 0., 0., 0., 0., 0., 0., 0., 0., 0., 0., 0., 0., 0.,\n",
            "        0., 0., 0., 0., 0., 0., 0., 0., 0., 0., 0., 0., 0., 0., 1., 0., 0., 0.,\n",
            "        1., 0., 0., 0., 0., 0., 0., 0., 0., 1., 0., 0., 0., 0., 0., 0., 0., 0.,\n",
            "        0., 0., 0., 0., 0., 0., 0., 0., 0., 0., 0., 0., 0., 0., 0., 0., 0., 0.,\n",
            "        0., 0., 0., 0., 0., 0., 0., 0., 0., 0., 0., 0., 0., 0., 0., 0., 0., 0.,\n",
            "        0., 0., 0., 0., 0., 0., 0., 0., 0., 0., 0., 0., 0., 0., 0., 0., 0., 0.,\n",
            "        0., 0., 0., 0.])\n"
          ]
        }
      ],
      "source": [
        "for xb, yb in train_dl:\n",
        "    print(xb, yb)\n",
        "    break"
      ]
    },
    {
      "cell_type": "code",
      "execution_count": 156,
      "id": "c791390e",
      "metadata": {
        "colab": {
          "base_uri": "https://localhost:8080/"
        },
        "id": "c791390e",
        "outputId": "d4335781-2e86-4ac5-ed6d-f8dc5d5f9a35"
      },
      "outputs": [
        {
          "output_type": "execute_result",
          "data": {
            "text/plain": [
              "(torch.Size([256, 60, 1]), torch.Size([256]))"
            ]
          },
          "metadata": {},
          "execution_count": 156
        }
      ],
      "source": [
        "xb.shape, yb.shape"
      ]
    },
    {
      "cell_type": "code",
      "source": [
        "# looks legit"
      ],
      "metadata": {
        "id": "uV2CLj3e1h7E"
      },
      "id": "uV2CLj3e1h7E",
      "execution_count": 157,
      "outputs": []
    },
    {
      "cell_type": "markdown",
      "id": "d15a7e70",
      "metadata": {
        "id": "d15a7e70"
      },
      "source": [
        "## Defining a model"
      ]
    },
    {
      "cell_type": "code",
      "execution_count": 158,
      "id": "9d403abf",
      "metadata": {
        "id": "9d403abf",
        "colab": {
          "base_uri": "https://localhost:8080/"
        },
        "outputId": "4a37d46e-c673-438f-b79d-45011b57d8c1"
      },
      "outputs": [
        {
          "output_type": "stream",
          "name": "stdout",
          "text": [
            "Looking in indexes: https://pypi.org/simple, https://us-python.pkg.dev/colab-wheels/public/simple/\n",
            "Requirement already satisfied: torchviz in /usr/local/lib/python3.10/dist-packages (0.0.2)\n",
            "Requirement already satisfied: torch in /usr/local/lib/python3.10/dist-packages (from torchviz) (2.0.1+cu118)\n",
            "Requirement already satisfied: graphviz in /usr/local/lib/python3.10/dist-packages (from torchviz) (0.20.1)\n",
            "Requirement already satisfied: filelock in /usr/local/lib/python3.10/dist-packages (from torch->torchviz) (3.12.0)\n",
            "Requirement already satisfied: typing-extensions in /usr/local/lib/python3.10/dist-packages (from torch->torchviz) (4.5.0)\n",
            "Requirement already satisfied: sympy in /usr/local/lib/python3.10/dist-packages (from torch->torchviz) (1.11.1)\n",
            "Requirement already satisfied: networkx in /usr/local/lib/python3.10/dist-packages (from torch->torchviz) (3.1)\n",
            "Requirement already satisfied: jinja2 in /usr/local/lib/python3.10/dist-packages (from torch->torchviz) (3.1.2)\n",
            "Requirement already satisfied: triton==2.0.0 in /usr/local/lib/python3.10/dist-packages (from torch->torchviz) (2.0.0)\n",
            "Requirement already satisfied: cmake in /usr/local/lib/python3.10/dist-packages (from triton==2.0.0->torch->torchviz) (3.25.2)\n",
            "Requirement already satisfied: lit in /usr/local/lib/python3.10/dist-packages (from triton==2.0.0->torch->torchviz) (16.0.5)\n",
            "Requirement already satisfied: MarkupSafe>=2.0 in /usr/local/lib/python3.10/dist-packages (from jinja2->torch->torchviz) (2.1.2)\n",
            "Requirement already satisfied: mpmath>=0.19 in /usr/local/lib/python3.10/dist-packages (from sympy->torch->torchviz) (1.3.0)\n"
          ]
        }
      ],
      "source": [
        "from torch import nn\n",
        "from torch.nn import functional as F\n",
        "!pip install torchviz\n",
        "from torchviz.dot import make_dot, resize_graph"
      ]
    },
    {
      "cell_type": "code",
      "source": [
        "class NetV2(nn.Module):\n",
        "    def __init__(self):\n",
        "        super(NetV2, self).__init__()\n",
        "        self.one = torch.tensor(1., requires_grad=False)\n",
        "        self.conv1 = nn.Conv1d(in_channels=1, out_channels=16, kernel_size=5, stride=1, bias=True)\n",
        "        self.pool1 = nn.MaxPool1d(3, stride=2)\n",
        "        self.conv2 = nn.Conv1d(in_channels=16, out_channels=32, kernel_size=5, stride=1, bias=True)\n",
        "        self.pool2 = nn.MaxPool1d(3, stride=2)\n",
        "        self.conv3 = nn.Conv1d(in_channels=32, out_channels=64, kernel_size=3, stride=1, bias=True)\n",
        "        self.pool3 = nn.MaxPool1d(3, stride=2)\n",
        "        self.fc1 = nn.Linear(64*4, 64, bias=True)\n",
        "        self.fc2 = nn.Linear(64, 16, bias=True)\n",
        "        self.fc3 = nn.Linear(16, 1, bias=True)\n",
        "        \n",
        "    def forward(self, xb):\n",
        "        x = xb\n",
        "        x = (x / x[:,0,0].view(-1, 1, 1)) - self.one   # this might require some explanation, see \"normalization\" later\n",
        "        x = x.transpose(1,2)\n",
        "        x = self.conv1(x)\n",
        "        x = F.leaky_relu(x)\n",
        "        x = self.pool1(x)\n",
        "        x = self.conv2(x)\n",
        "        x = F.leaky_relu(x)\n",
        "        x = self.pool2(x)\n",
        "        x = self.conv3(x)\n",
        "        x = F.leaky_relu(x)\n",
        "        x = self.pool3(x)\n",
        "        x = x.reshape(x.size(0), -1)\n",
        "        x = self.fc1(x)\n",
        "        x = F.leaky_relu(x)\n",
        "        x = self.fc2(x)\n",
        "        x = F.leaky_relu(x)\n",
        "        x = self.fc3(x)\n",
        "        return x"
      ],
      "metadata": {
        "id": "5yjju-wd3AOo"
      },
      "id": "5yjju-wd3AOo",
      "execution_count": 159,
      "outputs": []
    },
    {
      "cell_type": "code",
      "source": [
        "# NORMALIZATION:\n",
        "# x = (x / x[:,0,0].view(-1, 1, 1)) - self.one\n",
        "# this line achieves two things:\n",
        "# 1. scales the sequence (by dividing each sequence by its first item)\n",
        "# 2. centers the sequence (by subtracting 1)\n",
        "\n",
        "# 1. SCALING:\n",
        "# here I follow the assumption that the percentage change of the price is what really matters\n",
        "# e.g. BTCUSD and ETHUSD often behave similarly despite the BTC price being an order of magnitude larger\n",
        "# by letting go of the scale we turn [46339,   46365,   46505,   46487,   46383,   46221]\n",
        "#                               into [1.   , 1.00056, 1.00358, 1.00319, 1.00095, 0.99745]\n",
        "# which allows the model that was trained on 2018's BTCUSD==3k \n",
        "# to perform well on 2021's data where BTCUSD shoots up to 60k,\n",
        "# because the general patterns stay the same\n",
        "\n",
        "# 2. CENTERING\n",
        "# [1.   , 1.00056, 1.00358, 1.00319, 1.00095, 0.99745..] is a great way \n",
        "# to represent the pattern of the price change, however it's not so great for a neural network \n",
        "# to feed exclusively positive values centered around some positive constant like 1.\n",
        "# by subtracting 1., we get a [ 0.     ,  0.00056,  0.00358,  0.00319,  0.00095, -0.00255..] sequence\n",
        "# which may look very similar for a human, but could make a world of difference for the overall convergence"
      ],
      "metadata": {
        "id": "eEQCELw0yxoo"
      },
      "id": "eEQCELw0yxoo",
      "execution_count": 160,
      "outputs": []
    },
    {
      "cell_type": "code",
      "source": [
        "net = NetV2()\n",
        "for param in list(net.parameters()):\n",
        "    print(param.shape)"
      ],
      "metadata": {
        "colab": {
          "base_uri": "https://localhost:8080/"
        },
        "id": "Jo_cwxBcI3Hi",
        "outputId": "c42fbf05-172d-4cb6-b2a9-34f5a8f34938"
      },
      "id": "Jo_cwxBcI3Hi",
      "execution_count": 161,
      "outputs": [
        {
          "output_type": "stream",
          "name": "stdout",
          "text": [
            "torch.Size([16, 1, 5])\n",
            "torch.Size([16])\n",
            "torch.Size([32, 16, 5])\n",
            "torch.Size([32])\n",
            "torch.Size([64, 32, 3])\n",
            "torch.Size([64])\n",
            "torch.Size([64, 256])\n",
            "torch.Size([64])\n",
            "torch.Size([16, 64])\n",
            "torch.Size([16])\n",
            "torch.Size([1, 16])\n",
            "torch.Size([1])\n"
          ]
        }
      ]
    },
    {
      "cell_type": "code",
      "source": [
        "# the computation graph looks like this\n",
        "for xb, yb in train_dl:\n",
        "    break\n",
        "ypred = net.forward(xb)\n",
        "graph = make_dot(ypred.mean(), params=dict(net.named_parameters()), show_attrs=True, show_saved=True)\n",
        "resize_graph(graph, size_per_element=0.002, min_size=50)\n",
        "graph"
      ],
      "metadata": {
        "colab": {
          "base_uri": "https://localhost:8080/",
          "height": 1000
        },
        "id": "P30d6-AI2Dl7",
        "outputId": "8f4ff409-5652-4259-de75-6c31937105bd"
      },
      "id": "P30d6-AI2Dl7",
      "execution_count": 162,
      "outputs": [
        {
          "output_type": "execute_result",
          "data": {
            "image/svg+xml": "<?xml version=\"1.0\" encoding=\"UTF-8\" standalone=\"no\"?>\n<!DOCTYPE svg PUBLIC \"-//W3C//DTD SVG 1.1//EN\"\n \"http://www.w3.org/Graphics/SVG/1.1/DTD/svg11.dtd\">\n<!-- Generated by graphviz version 2.43.0 (0)\n -->\n<!-- Title: %3 Pages: 1 -->\n<svg width=\"1264pt\" height=\"2646pt\"\n viewBox=\"0.00 0.00 1264.00 2646.00\" xmlns=\"http://www.w3.org/2000/svg\" xmlns:xlink=\"http://www.w3.org/1999/xlink\">\n<g id=\"graph0\" class=\"graph\" transform=\"scale(1 1) rotate(0) translate(4 2642)\">\n<title>%3</title>\n<polygon fill=\"white\" stroke=\"transparent\" points=\"-4,4 -4,-2642 1260,-2642 1260,4 -4,4\"/>\n<!-- 139882058324688 -->\n<g id=\"node1\" class=\"node\">\n<title>139882058324688</title>\n<polygon fill=\"#caff70\" stroke=\"black\" points=\"439.5,-31 385.5,-31 385.5,0 439.5,0 439.5,-31\"/>\n<text text-anchor=\"middle\" x=\"412.5\" y=\"-7\" font-family=\"monospace\" font-size=\"10.00\"> ()</text>\n</g>\n<!-- 139881662321888 -->\n<g id=\"node2\" class=\"node\">\n<title>139881662321888</title>\n<polygon fill=\"lightgrey\" stroke=\"black\" points=\"551,-119 354,-119 354,-67 551,-67 551,-119\"/>\n<text text-anchor=\"middle\" x=\"452.5\" y=\"-107\" font-family=\"monospace\" font-size=\"10.00\">MeanBackward0</text>\n<text text-anchor=\"middle\" x=\"452.5\" y=\"-96\" font-family=\"monospace\" font-size=\"10.00\">&#45;&#45;&#45;&#45;&#45;&#45;&#45;&#45;&#45;&#45;&#45;&#45;&#45;&#45;&#45;&#45;&#45;&#45;&#45;&#45;&#45;&#45;&#45;&#45;&#45;&#45;&#45;&#45;&#45;&#45;</text>\n<text text-anchor=\"middle\" x=\"452.5\" y=\"-85\" font-family=\"monospace\" font-size=\"10.00\">self &#160;&#160;&#160;&#160;&#160;&#160;&#160;&#160;&#160;: [saved tensor]</text>\n<text text-anchor=\"middle\" x=\"452.5\" y=\"-74\" font-family=\"monospace\" font-size=\"10.00\">self_sym_sizes: &#160;&#160;&#160;&#160;&#160;&#160;(256, 1)</text>\n</g>\n<!-- 139881662321888&#45;&gt;139882058324688 -->\n<g id=\"edge73\" class=\"edge\">\n<title>139881662321888&#45;&gt;139882058324688</title>\n<path fill=\"none\" stroke=\"black\" d=\"M439.18,-66.86C434.62,-58.26 429.54,-48.67 425.05,-40.19\"/>\n<polygon fill=\"black\" stroke=\"black\" points=\"428.06,-38.39 420.28,-31.19 421.87,-41.66 428.06,-38.39\"/>\n</g>\n<!-- 139881836807088 -->\n<g id=\"node3\" class=\"node\">\n<title>139881836807088</title>\n<polygon fill=\"orange\" stroke=\"black\" points=\"529,-30.5 458,-30.5 458,-0.5 529,-0.5 529,-30.5\"/>\n<text text-anchor=\"middle\" x=\"493.5\" y=\"-18.5\" font-family=\"monospace\" font-size=\"10.00\">self</text>\n<text text-anchor=\"middle\" x=\"493.5\" y=\"-7.5\" font-family=\"monospace\" font-size=\"10.00\"> (256, 1)</text>\n</g>\n<!-- 139881662321888&#45;&gt;139881836807088 -->\n<g id=\"edge1\" class=\"edge\">\n<title>139881662321888&#45;&gt;139881836807088</title>\n<path fill=\"none\" stroke=\"black\" d=\"M466.15,-66.86C472.67,-54.85 480.24,-40.91 485.76,-30.75\"/>\n</g>\n<!-- 139881662325104 -->\n<g id=\"node4\" class=\"node\">\n<title>139881662325104</title>\n<polygon fill=\"lightgrey\" stroke=\"black\" points=\"712,-273 503,-273 503,-155 712,-155 712,-273\"/>\n<text text-anchor=\"middle\" x=\"607.5\" y=\"-261\" font-family=\"monospace\" font-size=\"10.00\">AddmmBackward0</text>\n<text text-anchor=\"middle\" x=\"607.5\" y=\"-250\" font-family=\"monospace\" font-size=\"10.00\">&#45;&#45;&#45;&#45;&#45;&#45;&#45;&#45;&#45;&#45;&#45;&#45;&#45;&#45;&#45;&#45;&#45;&#45;&#45;&#45;&#45;&#45;&#45;&#45;&#45;&#45;&#45;&#45;&#45;&#45;&#45;&#45;</text>\n<text text-anchor=\"middle\" x=\"607.5\" y=\"-239\" font-family=\"monospace\" font-size=\"10.00\">alpha &#160;&#160;&#160;&#160;&#160;&#160;&#160;&#160;&#160;&#160;: &#160;&#160;&#160;&#160;&#160;&#160;&#160;&#160;&#160;&#160;&#160;&#160;&#160;1</text>\n<text text-anchor=\"middle\" x=\"607.5\" y=\"-228\" font-family=\"monospace\" font-size=\"10.00\">beta &#160;&#160;&#160;&#160;&#160;&#160;&#160;&#160;&#160;&#160;&#160;: &#160;&#160;&#160;&#160;&#160;&#160;&#160;&#160;&#160;&#160;&#160;&#160;&#160;1</text>\n<text text-anchor=\"middle\" x=\"607.5\" y=\"-217\" font-family=\"monospace\" font-size=\"10.00\">mat1 &#160;&#160;&#160;&#160;&#160;&#160;&#160;&#160;&#160;&#160;&#160;: [saved tensor]</text>\n<text text-anchor=\"middle\" x=\"607.5\" y=\"-206\" font-family=\"monospace\" font-size=\"10.00\">mat1_sym_sizes &#160;: &#160;&#160;&#160;&#160;&#160;(256, 16)</text>\n<text text-anchor=\"middle\" x=\"607.5\" y=\"-195\" font-family=\"monospace\" font-size=\"10.00\">mat1_sym_strides: &#160;&#160;&#160;&#160;&#160;&#160;&#160;(16, 1)</text>\n<text text-anchor=\"middle\" x=\"607.5\" y=\"-184\" font-family=\"monospace\" font-size=\"10.00\">mat2 &#160;&#160;&#160;&#160;&#160;&#160;&#160;&#160;&#160;&#160;&#160;: [saved tensor]</text>\n<text text-anchor=\"middle\" x=\"607.5\" y=\"-173\" font-family=\"monospace\" font-size=\"10.00\">mat2_sym_sizes &#160;: &#160;&#160;&#160;&#160;&#160;&#160;&#160;(16, 1)</text>\n<text text-anchor=\"middle\" x=\"607.5\" y=\"-162\" font-family=\"monospace\" font-size=\"10.00\">mat2_sym_strides: &#160;&#160;&#160;&#160;&#160;&#160;&#160;(1, 16)</text>\n</g>\n<!-- 139881662325104&#45;&gt;139881662321888 -->\n<g id=\"edge2\" class=\"edge\">\n<title>139881662325104&#45;&gt;139881662321888</title>\n<path fill=\"none\" stroke=\"black\" d=\"M531.82,-154.89C518.45,-144.64 505.02,-134.32 493.1,-125.17\"/>\n<polygon fill=\"black\" stroke=\"black\" points=\"495.18,-122.36 485.12,-119.04 490.92,-127.91 495.18,-122.36\"/>\n</g>\n<!-- 139881661872176 -->\n<g id=\"node5\" class=\"node\">\n<title>139881661872176</title>\n<polygon fill=\"orange\" stroke=\"black\" points=\"646,-108 569,-108 569,-78 646,-78 646,-108\"/>\n<text text-anchor=\"middle\" x=\"607.5\" y=\"-96\" font-family=\"monospace\" font-size=\"10.00\">mat1</text>\n<text text-anchor=\"middle\" x=\"607.5\" y=\"-85\" font-family=\"monospace\" font-size=\"10.00\"> (256, 16)</text>\n</g>\n<!-- 139881662325104&#45;&gt;139881661872176 -->\n<g id=\"edge3\" class=\"edge\">\n<title>139881662325104&#45;&gt;139881661872176</title>\n<path fill=\"none\" stroke=\"black\" d=\"M607.5,-154.89C607.5,-137.43 607.5,-119.81 607.5,-108.04\"/>\n</g>\n<!-- 139881661866016 -->\n<g id=\"node6\" class=\"node\">\n<title>139881661866016</title>\n<polygon fill=\"orange\" stroke=\"black\" points=\"729,-108 664,-108 664,-78 729,-78 729,-108\"/>\n<text text-anchor=\"middle\" x=\"696.5\" y=\"-96\" font-family=\"monospace\" font-size=\"10.00\">mat2</text>\n<text text-anchor=\"middle\" x=\"696.5\" y=\"-85\" font-family=\"monospace\" font-size=\"10.00\"> (16, 1)</text>\n</g>\n<!-- 139881662325104&#45;&gt;139881661866016 -->\n<g id=\"edge4\" class=\"edge\">\n<title>139881662325104&#45;&gt;139881661866016</title>\n<path fill=\"none\" stroke=\"black\" d=\"M650.96,-154.89C664.02,-137.43 677.2,-119.81 686,-108.04\"/>\n</g>\n<!-- 139881662319152 -->\n<g id=\"node7\" class=\"node\">\n<title>139881662319152</title>\n<polygon fill=\"lightgrey\" stroke=\"black\" points=\"551,-344.5 450,-344.5 450,-325.5 551,-325.5 551,-344.5\"/>\n<text text-anchor=\"middle\" x=\"500.5\" y=\"-332.5\" font-family=\"monospace\" font-size=\"10.00\">AccumulateGrad</text>\n</g>\n<!-- 139881662319152&#45;&gt;139881662325104 -->\n<g id=\"edge5\" class=\"edge\">\n<title>139881662319152&#45;&gt;139881662325104</title>\n<path fill=\"none\" stroke=\"black\" d=\"M508.2,-325.44C517,-315.65 532.28,-298.66 548.24,-280.9\"/>\n<polygon fill=\"black\" stroke=\"black\" points=\"551.03,-283.04 555.11,-273.26 545.82,-278.36 551.03,-283.04\"/>\n</g>\n<!-- 139881662126880 -->\n<g id=\"node8\" class=\"node\">\n<title>139881662126880</title>\n<polygon fill=\"lightblue\" stroke=\"black\" points=\"533,-471 468,-471 468,-441 533,-441 533,-471\"/>\n<text text-anchor=\"middle\" x=\"500.5\" y=\"-459\" font-family=\"monospace\" font-size=\"10.00\">fc3.bias</text>\n<text text-anchor=\"middle\" x=\"500.5\" y=\"-448\" font-family=\"monospace\" font-size=\"10.00\"> (1)</text>\n</g>\n<!-- 139881662126880&#45;&gt;139881662319152 -->\n<g id=\"edge6\" class=\"edge\">\n<title>139881662126880&#45;&gt;139881662319152</title>\n<path fill=\"none\" stroke=\"black\" d=\"M500.5,-440.88C500.5,-419.51 500.5,-378.89 500.5,-354.96\"/>\n<polygon fill=\"black\" stroke=\"black\" points=\"504,-354.71 500.5,-344.71 497,-354.71 504,-354.71\"/>\n</g>\n<!-- 139881662332064 -->\n<g id=\"node9\" class=\"node\">\n<title>139881662332064</title>\n<polygon fill=\"lightgrey\" stroke=\"black\" points=\"1116,-361 919,-361 919,-309 1116,-309 1116,-361\"/>\n<text text-anchor=\"middle\" x=\"1017.5\" y=\"-349\" font-family=\"monospace\" font-size=\"10.00\">LeakyReluBackward0</text>\n<text text-anchor=\"middle\" x=\"1017.5\" y=\"-338\" font-family=\"monospace\" font-size=\"10.00\">&#45;&#45;&#45;&#45;&#45;&#45;&#45;&#45;&#45;&#45;&#45;&#45;&#45;&#45;&#45;&#45;&#45;&#45;&#45;&#45;&#45;&#45;&#45;&#45;&#45;&#45;&#45;&#45;&#45;&#45;</text>\n<text text-anchor=\"middle\" x=\"1017.5\" y=\"-327\" font-family=\"monospace\" font-size=\"10.00\">negative_slope: &#160;&#160;&#160;&#160;&#160;&#160;&#160;&#160;&#160;&#160;0.01</text>\n<text text-anchor=\"middle\" x=\"1017.5\" y=\"-316\" font-family=\"monospace\" font-size=\"10.00\">self &#160;&#160;&#160;&#160;&#160;&#160;&#160;&#160;&#160;: [saved tensor]</text>\n</g>\n<!-- 139881662332064&#45;&gt;139881662325104 -->\n<g id=\"edge7\" class=\"edge\">\n<title>139881662332064&#45;&gt;139881662325104</title>\n<path fill=\"none\" stroke=\"black\" d=\"M931.3,-308.98C870.41,-291.31 788.16,-267.44 721.8,-248.18\"/>\n<polygon fill=\"black\" stroke=\"black\" points=\"722.71,-244.79 712.13,-245.37 720.76,-251.52 722.71,-244.79\"/>\n</g>\n<!-- 139881661862576 -->\n<g id=\"node10\" class=\"node\">\n<title>139881661862576</title>\n<polygon fill=\"orange\" stroke=\"black\" points=\"1056,-229 979,-229 979,-199 1056,-199 1056,-229\"/>\n<text text-anchor=\"middle\" x=\"1017.5\" y=\"-217\" font-family=\"monospace\" font-size=\"10.00\">self</text>\n<text text-anchor=\"middle\" x=\"1017.5\" y=\"-206\" font-family=\"monospace\" font-size=\"10.00\"> (256, 16)</text>\n</g>\n<!-- 139881662332064&#45;&gt;139881661862576 -->\n<g id=\"edge8\" class=\"edge\">\n<title>139881662332064&#45;&gt;139881661862576</title>\n<path fill=\"none\" stroke=\"black\" d=\"M1017.5,-308.76C1017.5,-284.47 1017.5,-248.63 1017.5,-229.04\"/>\n</g>\n<!-- 139881662326736 -->\n<g id=\"node11\" class=\"node\">\n<title>139881662326736</title>\n<polygon fill=\"lightgrey\" stroke=\"black\" points=\"1014,-515 805,-515 805,-397 1014,-397 1014,-515\"/>\n<text text-anchor=\"middle\" x=\"909.5\" y=\"-503\" font-family=\"monospace\" font-size=\"10.00\">AddmmBackward0</text>\n<text text-anchor=\"middle\" x=\"909.5\" y=\"-492\" font-family=\"monospace\" font-size=\"10.00\">&#45;&#45;&#45;&#45;&#45;&#45;&#45;&#45;&#45;&#45;&#45;&#45;&#45;&#45;&#45;&#45;&#45;&#45;&#45;&#45;&#45;&#45;&#45;&#45;&#45;&#45;&#45;&#45;&#45;&#45;&#45;&#45;</text>\n<text text-anchor=\"middle\" x=\"909.5\" y=\"-481\" font-family=\"monospace\" font-size=\"10.00\">alpha &#160;&#160;&#160;&#160;&#160;&#160;&#160;&#160;&#160;&#160;: &#160;&#160;&#160;&#160;&#160;&#160;&#160;&#160;&#160;&#160;&#160;&#160;&#160;1</text>\n<text text-anchor=\"middle\" x=\"909.5\" y=\"-470\" font-family=\"monospace\" font-size=\"10.00\">beta &#160;&#160;&#160;&#160;&#160;&#160;&#160;&#160;&#160;&#160;&#160;: &#160;&#160;&#160;&#160;&#160;&#160;&#160;&#160;&#160;&#160;&#160;&#160;&#160;1</text>\n<text text-anchor=\"middle\" x=\"909.5\" y=\"-459\" font-family=\"monospace\" font-size=\"10.00\">mat1 &#160;&#160;&#160;&#160;&#160;&#160;&#160;&#160;&#160;&#160;&#160;: [saved tensor]</text>\n<text text-anchor=\"middle\" x=\"909.5\" y=\"-448\" font-family=\"monospace\" font-size=\"10.00\">mat1_sym_sizes &#160;: &#160;&#160;&#160;&#160;&#160;(256, 64)</text>\n<text text-anchor=\"middle\" x=\"909.5\" y=\"-437\" font-family=\"monospace\" font-size=\"10.00\">mat1_sym_strides: &#160;&#160;&#160;&#160;&#160;&#160;&#160;(64, 1)</text>\n<text text-anchor=\"middle\" x=\"909.5\" y=\"-426\" font-family=\"monospace\" font-size=\"10.00\">mat2 &#160;&#160;&#160;&#160;&#160;&#160;&#160;&#160;&#160;&#160;&#160;: [saved tensor]</text>\n<text text-anchor=\"middle\" x=\"909.5\" y=\"-415\" font-family=\"monospace\" font-size=\"10.00\">mat2_sym_sizes &#160;: &#160;&#160;&#160;&#160;&#160;&#160;(64, 16)</text>\n<text text-anchor=\"middle\" x=\"909.5\" y=\"-404\" font-family=\"monospace\" font-size=\"10.00\">mat2_sym_strides: &#160;&#160;&#160;&#160;&#160;&#160;&#160;(1, 64)</text>\n</g>\n<!-- 139881662326736&#45;&gt;139881662332064 -->\n<g id=\"edge9\" class=\"edge\">\n<title>139881662326736&#45;&gt;139881662332064</title>\n<path fill=\"none\" stroke=\"black\" d=\"M962.23,-396.89C971.1,-387.13 980.01,-377.31 988,-368.5\"/>\n<polygon fill=\"black\" stroke=\"black\" points=\"990.64,-370.8 994.77,-361.04 985.46,-366.09 990.64,-370.8\"/>\n</g>\n<!-- 139881661872416 -->\n<g id=\"node12\" class=\"node\">\n<title>139881661872416</title>\n<polygon fill=\"orange\" stroke=\"black\" points=\"901,-350 824,-350 824,-320 901,-320 901,-350\"/>\n<text text-anchor=\"middle\" x=\"862.5\" y=\"-338\" font-family=\"monospace\" font-size=\"10.00\">mat1</text>\n<text text-anchor=\"middle\" x=\"862.5\" y=\"-327\" font-family=\"monospace\" font-size=\"10.00\"> (256, 64)</text>\n</g>\n<!-- 139881662326736&#45;&gt;139881661872416 -->\n<g id=\"edge10\" class=\"edge\">\n<title>139881662326736&#45;&gt;139881661872416</title>\n<path fill=\"none\" stroke=\"black\" d=\"M886.55,-396.89C879.65,-379.43 872.69,-361.81 868.05,-350.04\"/>\n</g>\n<!-- 139881659923760 -->\n<g id=\"node13\" class=\"node\">\n<title>139881659923760</title>\n<polygon fill=\"orange\" stroke=\"black\" points=\"806,-350 735,-350 735,-320 806,-320 806,-350\"/>\n<text text-anchor=\"middle\" x=\"770.5\" y=\"-338\" font-family=\"monospace\" font-size=\"10.00\">mat2</text>\n<text text-anchor=\"middle\" x=\"770.5\" y=\"-327\" font-family=\"monospace\" font-size=\"10.00\"> (64, 16)</text>\n</g>\n<!-- 139881662326736&#45;&gt;139881659923760 -->\n<g id=\"edge11\" class=\"edge\">\n<title>139881662326736&#45;&gt;139881659923760</title>\n<path fill=\"none\" stroke=\"black\" d=\"M841.63,-396.89C821.23,-379.43 800.64,-361.81 786.91,-350.04\"/>\n</g>\n<!-- 139881662318912 -->\n<g id=\"node14\" class=\"node\">\n<title>139881662318912</title>\n<polygon fill=\"lightgrey\" stroke=\"black\" points=\"1149,-586.5 1048,-586.5 1048,-567.5 1149,-567.5 1149,-586.5\"/>\n<text text-anchor=\"middle\" x=\"1098.5\" y=\"-574.5\" font-family=\"monospace\" font-size=\"10.00\">AccumulateGrad</text>\n</g>\n<!-- 139881662318912&#45;&gt;139881662326736 -->\n<g id=\"edge12\" class=\"edge\">\n<title>139881662318912&#45;&gt;139881662326736</title>\n<path fill=\"none\" stroke=\"black\" d=\"M1084.91,-567.44C1068.73,-557.26 1040.19,-539.28 1010.76,-520.76\"/>\n<polygon fill=\"black\" stroke=\"black\" points=\"1012.36,-517.63 1002.04,-515.26 1008.63,-523.55 1012.36,-517.63\"/>\n</g>\n<!-- 139881662122960 -->\n<g id=\"node15\" class=\"node\">\n<title>139881662122960</title>\n<polygon fill=\"lightblue\" stroke=\"black\" points=\"1131,-713 1066,-713 1066,-683 1131,-683 1131,-713\"/>\n<text text-anchor=\"middle\" x=\"1098.5\" y=\"-701\" font-family=\"monospace\" font-size=\"10.00\">fc2.bias</text>\n<text text-anchor=\"middle\" x=\"1098.5\" y=\"-690\" font-family=\"monospace\" font-size=\"10.00\"> (16)</text>\n</g>\n<!-- 139881662122960&#45;&gt;139881662318912 -->\n<g id=\"edge13\" class=\"edge\">\n<title>139881662122960&#45;&gt;139881662318912</title>\n<path fill=\"none\" stroke=\"black\" d=\"M1098.5,-682.88C1098.5,-661.51 1098.5,-620.89 1098.5,-596.96\"/>\n<polygon fill=\"black\" stroke=\"black\" points=\"1102,-596.71 1098.5,-586.71 1095,-596.71 1102,-596.71\"/>\n</g>\n<!-- 139881662325536 -->\n<g id=\"node16\" class=\"node\">\n<title>139881662325536</title>\n<polygon fill=\"lightgrey\" stroke=\"black\" points=\"834,-603 637,-603 637,-551 834,-551 834,-603\"/>\n<text text-anchor=\"middle\" x=\"735.5\" y=\"-591\" font-family=\"monospace\" font-size=\"10.00\">LeakyReluBackward0</text>\n<text text-anchor=\"middle\" x=\"735.5\" y=\"-580\" font-family=\"monospace\" font-size=\"10.00\">&#45;&#45;&#45;&#45;&#45;&#45;&#45;&#45;&#45;&#45;&#45;&#45;&#45;&#45;&#45;&#45;&#45;&#45;&#45;&#45;&#45;&#45;&#45;&#45;&#45;&#45;&#45;&#45;&#45;&#45;</text>\n<text text-anchor=\"middle\" x=\"735.5\" y=\"-569\" font-family=\"monospace\" font-size=\"10.00\">negative_slope: &#160;&#160;&#160;&#160;&#160;&#160;&#160;&#160;&#160;&#160;0.01</text>\n<text text-anchor=\"middle\" x=\"735.5\" y=\"-558\" font-family=\"monospace\" font-size=\"10.00\">self &#160;&#160;&#160;&#160;&#160;&#160;&#160;&#160;&#160;: [saved tensor]</text>\n</g>\n<!-- 139881662325536&#45;&gt;139881662326736 -->\n<g id=\"edge14\" class=\"edge\">\n<title>139881662325536&#45;&gt;139881662326736</title>\n<path fill=\"none\" stroke=\"black\" d=\"M772.4,-550.76C785.36,-541.9 800.58,-531.49 816.06,-520.9\"/>\n<polygon fill=\"black\" stroke=\"black\" points=\"818.4,-523.54 824.68,-515.01 814.45,-517.76 818.4,-523.54\"/>\n</g>\n<!-- 139881662129680 -->\n<g id=\"node17\" class=\"node\">\n<title>139881662129680</title>\n<polygon fill=\"orange\" stroke=\"black\" points=\"774,-471 697,-471 697,-441 774,-441 774,-471\"/>\n<text text-anchor=\"middle\" x=\"735.5\" y=\"-459\" font-family=\"monospace\" font-size=\"10.00\">self</text>\n<text text-anchor=\"middle\" x=\"735.5\" y=\"-448\" font-family=\"monospace\" font-size=\"10.00\"> (256, 64)</text>\n</g>\n<!-- 139881662325536&#45;&gt;139881662129680 -->\n<g id=\"edge15\" class=\"edge\">\n<title>139881662325536&#45;&gt;139881662129680</title>\n<path fill=\"none\" stroke=\"black\" d=\"M735.5,-550.76C735.5,-526.47 735.5,-490.63 735.5,-471.04\"/>\n</g>\n<!-- 139881662329136 -->\n<g id=\"node18\" class=\"node\">\n<title>139881662329136</title>\n<polygon fill=\"lightgrey\" stroke=\"black\" points=\"998,-757 789,-757 789,-639 998,-639 998,-757\"/>\n<text text-anchor=\"middle\" x=\"893.5\" y=\"-745\" font-family=\"monospace\" font-size=\"10.00\">AddmmBackward0</text>\n<text text-anchor=\"middle\" x=\"893.5\" y=\"-734\" font-family=\"monospace\" font-size=\"10.00\">&#45;&#45;&#45;&#45;&#45;&#45;&#45;&#45;&#45;&#45;&#45;&#45;&#45;&#45;&#45;&#45;&#45;&#45;&#45;&#45;&#45;&#45;&#45;&#45;&#45;&#45;&#45;&#45;&#45;&#45;&#45;&#45;</text>\n<text text-anchor=\"middle\" x=\"893.5\" y=\"-723\" font-family=\"monospace\" font-size=\"10.00\">alpha &#160;&#160;&#160;&#160;&#160;&#160;&#160;&#160;&#160;&#160;: &#160;&#160;&#160;&#160;&#160;&#160;&#160;&#160;&#160;&#160;&#160;&#160;&#160;1</text>\n<text text-anchor=\"middle\" x=\"893.5\" y=\"-712\" font-family=\"monospace\" font-size=\"10.00\">beta &#160;&#160;&#160;&#160;&#160;&#160;&#160;&#160;&#160;&#160;&#160;: &#160;&#160;&#160;&#160;&#160;&#160;&#160;&#160;&#160;&#160;&#160;&#160;&#160;1</text>\n<text text-anchor=\"middle\" x=\"893.5\" y=\"-701\" font-family=\"monospace\" font-size=\"10.00\">mat1 &#160;&#160;&#160;&#160;&#160;&#160;&#160;&#160;&#160;&#160;&#160;: [saved tensor]</text>\n<text text-anchor=\"middle\" x=\"893.5\" y=\"-690\" font-family=\"monospace\" font-size=\"10.00\">mat1_sym_sizes &#160;: &#160;&#160;&#160;&#160;(256, 256)</text>\n<text text-anchor=\"middle\" x=\"893.5\" y=\"-679\" font-family=\"monospace\" font-size=\"10.00\">mat1_sym_strides: &#160;&#160;&#160;&#160;&#160;&#160;(256, 1)</text>\n<text text-anchor=\"middle\" x=\"893.5\" y=\"-668\" font-family=\"monospace\" font-size=\"10.00\">mat2 &#160;&#160;&#160;&#160;&#160;&#160;&#160;&#160;&#160;&#160;&#160;: [saved tensor]</text>\n<text text-anchor=\"middle\" x=\"893.5\" y=\"-657\" font-family=\"monospace\" font-size=\"10.00\">mat2_sym_sizes &#160;: &#160;&#160;&#160;&#160;&#160;(256, 64)</text>\n<text text-anchor=\"middle\" x=\"893.5\" y=\"-646\" font-family=\"monospace\" font-size=\"10.00\">mat2_sym_strides: &#160;&#160;&#160;&#160;&#160;&#160;(1, 256)</text>\n</g>\n<!-- 139881662329136&#45;&gt;139881662325536 -->\n<g id=\"edge16\" class=\"edge\">\n<title>139881662329136&#45;&gt;139881662325536</title>\n<path fill=\"none\" stroke=\"black\" d=\"M816.35,-638.89C802.73,-628.64 789.04,-618.32 776.89,-609.17\"/>\n<polygon fill=\"black\" stroke=\"black\" points=\"778.84,-606.26 768.75,-603.04 774.63,-611.85 778.84,-606.26\"/>\n</g>\n<!-- 139881662120000 -->\n<g id=\"node19\" class=\"node\">\n<title>139881662120000</title>\n<polygon fill=\"orange\" stroke=\"black\" points=\"935,-592 852,-592 852,-562 935,-562 935,-592\"/>\n<text text-anchor=\"middle\" x=\"893.5\" y=\"-580\" font-family=\"monospace\" font-size=\"10.00\">mat1</text>\n<text text-anchor=\"middle\" x=\"893.5\" y=\"-569\" font-family=\"monospace\" font-size=\"10.00\"> (256, 256)</text>\n</g>\n<!-- 139881662329136&#45;&gt;139881662120000 -->\n<g id=\"edge17\" class=\"edge\">\n<title>139881662329136&#45;&gt;139881662120000</title>\n<path fill=\"none\" stroke=\"black\" d=\"M893.5,-638.89C893.5,-621.43 893.5,-603.81 893.5,-592.04\"/>\n</g>\n<!-- 139881661868336 -->\n<g id=\"node20\" class=\"node\">\n<title>139881661868336</title>\n<polygon fill=\"orange\" stroke=\"black\" points=\"1030,-592 953,-592 953,-562 1030,-562 1030,-592\"/>\n<text text-anchor=\"middle\" x=\"991.5\" y=\"-580\" font-family=\"monospace\" font-size=\"10.00\">mat2</text>\n<text text-anchor=\"middle\" x=\"991.5\" y=\"-569\" font-family=\"monospace\" font-size=\"10.00\"> (256, 64)</text>\n</g>\n<!-- 139881662329136&#45;&gt;139881661868336 -->\n<g id=\"edge18\" class=\"edge\">\n<title>139881662329136&#45;&gt;139881661868336</title>\n<path fill=\"none\" stroke=\"black\" d=\"M941.35,-638.89C955.73,-621.43 970.25,-603.81 979.93,-592.04\"/>\n</g>\n<!-- 139881662329568 -->\n<g id=\"node21\" class=\"node\">\n<title>139881662329568</title>\n<polygon fill=\"lightgrey\" stroke=\"black\" points=\"1051,-823 950,-823 950,-804 1051,-804 1051,-823\"/>\n<text text-anchor=\"middle\" x=\"1000.5\" y=\"-811\" font-family=\"monospace\" font-size=\"10.00\">AccumulateGrad</text>\n</g>\n<!-- 139881662329568&#45;&gt;139881662329136 -->\n<g id=\"edge19\" class=\"edge\">\n<title>139881662329568&#45;&gt;139881662329136</title>\n<path fill=\"none\" stroke=\"black\" d=\"M992.46,-803.97C984.07,-795.07 970.1,-780.25 955.25,-764.5\"/>\n<polygon fill=\"black\" stroke=\"black\" points=\"957.79,-762.1 948.39,-757.22 952.7,-766.9 957.79,-762.1\"/>\n</g>\n<!-- 139881662650448 -->\n<g id=\"node22\" class=\"node\">\n<title>139881662650448</title>\n<polygon fill=\"lightblue\" stroke=\"black\" points=\"1033,-911 968,-911 968,-881 1033,-881 1033,-911\"/>\n<text text-anchor=\"middle\" x=\"1000.5\" y=\"-899\" font-family=\"monospace\" font-size=\"10.00\">fc1.bias</text>\n<text text-anchor=\"middle\" x=\"1000.5\" y=\"-888\" font-family=\"monospace\" font-size=\"10.00\"> (64)</text>\n</g>\n<!-- 139881662650448&#45;&gt;139881662329568 -->\n<g id=\"edge20\" class=\"edge\">\n<title>139881662650448&#45;&gt;139881662329568</title>\n<path fill=\"none\" stroke=\"black\" d=\"M1000.5,-880.98C1000.5,-867.9 1000.5,-848.27 1000.5,-833.73\"/>\n<polygon fill=\"black\" stroke=\"black\" points=\"1004,-833.38 1000.5,-823.38 997,-833.38 1004,-833.38\"/>\n</g>\n<!-- 139881662321744 -->\n<g id=\"node23\" class=\"node\">\n<title>139881662321744</title>\n<polygon fill=\"lightgrey\" stroke=\"black\" points=\"690,-834 505,-834 505,-793 690,-793 690,-834\"/>\n<text text-anchor=\"middle\" x=\"597.5\" y=\"-822\" font-family=\"monospace\" font-size=\"10.00\">ReshapeAliasBackward0</text>\n<text text-anchor=\"middle\" x=\"597.5\" y=\"-811\" font-family=\"monospace\" font-size=\"10.00\">&#45;&#45;&#45;&#45;&#45;&#45;&#45;&#45;&#45;&#45;&#45;&#45;&#45;&#45;&#45;&#45;&#45;&#45;&#45;&#45;&#45;&#45;&#45;&#45;&#45;&#45;&#45;&#45;</text>\n<text text-anchor=\"middle\" x=\"597.5\" y=\"-800\" font-family=\"monospace\" font-size=\"10.00\">self_sym_sizes: (256, 64, 4)</text>\n</g>\n<!-- 139881662321744&#45;&gt;139881662329136 -->\n<g id=\"edge21\" class=\"edge\">\n<title>139881662321744&#45;&gt;139881662329136</title>\n<path fill=\"none\" stroke=\"black\" d=\"M648.38,-792.99C684.34,-779.2 733.99,-760.16 779.2,-742.83\"/>\n<polygon fill=\"black\" stroke=\"black\" points=\"780.69,-746 788.78,-739.15 778.19,-739.47 780.69,-746\"/>\n</g>\n<!-- 139881662319536 -->\n<g id=\"node24\" class=\"node\">\n<title>139881662319536</title>\n<polygon fill=\"lightgrey\" stroke=\"black\" points=\"566,-922 333,-922 333,-870 566,-870 566,-922\"/>\n<text text-anchor=\"middle\" x=\"449.5\" y=\"-910\" font-family=\"monospace\" font-size=\"10.00\">SqueezeBackward1</text>\n<text text-anchor=\"middle\" x=\"449.5\" y=\"-899\" font-family=\"monospace\" font-size=\"10.00\">&#45;&#45;&#45;&#45;&#45;&#45;&#45;&#45;&#45;&#45;&#45;&#45;&#45;&#45;&#45;&#45;&#45;&#45;&#45;&#45;&#45;&#45;&#45;&#45;&#45;&#45;&#45;&#45;&#45;&#45;&#45;&#45;&#45;&#45;&#45;&#45;</text>\n<text text-anchor=\"middle\" x=\"449.5\" y=\"-888\" font-family=\"monospace\" font-size=\"10.00\">dim &#160;&#160;&#160;&#160;&#160;&#160;&#160;&#160;&#160;&#160;: 18446744073709551614</text>\n<text text-anchor=\"middle\" x=\"449.5\" y=\"-877\" font-family=\"monospace\" font-size=\"10.00\">self_sym_sizes: &#160;&#160;&#160;&#160;&#160;(256, 64, 1, 4)</text>\n</g>\n<!-- 139881662319536&#45;&gt;139881662321744 -->\n<g id=\"edge22\" class=\"edge\">\n<title>139881662319536&#45;&gt;139881662321744</title>\n<path fill=\"none\" stroke=\"black\" d=\"M495.52,-869.97C513.58,-860.14 534.26,-848.9 552.25,-839.11\"/>\n<polygon fill=\"black\" stroke=\"black\" points=\"554.27,-842 561.38,-834.15 550.92,-835.85 554.27,-842\"/>\n</g>\n<!-- 139881662330720 -->\n<g id=\"node25\" class=\"node\">\n<title>139881662330720</title>\n<polygon fill=\"lightgrey\" stroke=\"black\" points=\"736,-1065 545,-1065 545,-958 736,-958 736,-1065\"/>\n<text text-anchor=\"middle\" x=\"640.5\" y=\"-1053\" font-family=\"monospace\" font-size=\"10.00\">MaxPool2DWithIndicesBackward0</text>\n<text text-anchor=\"middle\" x=\"640.5\" y=\"-1042\" font-family=\"monospace\" font-size=\"10.00\">&#45;&#45;&#45;&#45;&#45;&#45;&#45;&#45;&#45;&#45;&#45;&#45;&#45;&#45;&#45;&#45;&#45;&#45;&#45;&#45;&#45;&#45;&#45;&#45;&#45;&#45;&#45;&#45;&#45;</text>\n<text text-anchor=\"middle\" x=\"640.5\" y=\"-1031\" font-family=\"monospace\" font-size=\"10.00\">ceil_mode &#160;: &#160;&#160;&#160;&#160;&#160;&#160;&#160;&#160;&#160;False</text>\n<text text-anchor=\"middle\" x=\"640.5\" y=\"-1020\" font-family=\"monospace\" font-size=\"10.00\">dilation &#160;&#160;: &#160;&#160;&#160;&#160;&#160;&#160;&#160;&#160;(1, 1)</text>\n<text text-anchor=\"middle\" x=\"640.5\" y=\"-1009\" font-family=\"monospace\" font-size=\"10.00\">kernel_size: &#160;&#160;&#160;&#160;&#160;&#160;&#160;&#160;(1, 3)</text>\n<text text-anchor=\"middle\" x=\"640.5\" y=\"-998\" font-family=\"monospace\" font-size=\"10.00\">padding &#160;&#160;&#160;: &#160;&#160;&#160;&#160;&#160;&#160;&#160;&#160;(0, 0)</text>\n<text text-anchor=\"middle\" x=\"640.5\" y=\"-987\" font-family=\"monospace\" font-size=\"10.00\">result1 &#160;&#160;&#160;: [saved tensor]</text>\n<text text-anchor=\"middle\" x=\"640.5\" y=\"-976\" font-family=\"monospace\" font-size=\"10.00\">self &#160;&#160;&#160;&#160;&#160;&#160;: [saved tensor]</text>\n<text text-anchor=\"middle\" x=\"640.5\" y=\"-965\" font-family=\"monospace\" font-size=\"10.00\">stride &#160;&#160;&#160;&#160;: &#160;&#160;&#160;&#160;&#160;&#160;&#160;&#160;(1, 2)</text>\n</g>\n<!-- 139881662330720&#45;&gt;139881662319536 -->\n<g id=\"edge23\" class=\"edge\">\n<title>139881662330720&#45;&gt;139881662319536</title>\n<path fill=\"none\" stroke=\"black\" d=\"M551.99,-957.9C534.53,-947.53 516.76,-936.97 501.03,-927.62\"/>\n<polygon fill=\"black\" stroke=\"black\" points=\"502.4,-924.37 492.02,-922.27 498.83,-930.38 502.4,-924.37\"/>\n</g>\n<!-- 139882058126240 -->\n<g id=\"node26\" class=\"node\">\n<title>139882058126240</title>\n<polygon fill=\"orange\" stroke=\"black\" points=\"828,-911 715,-911 715,-881 828,-881 828,-911\"/>\n<text text-anchor=\"middle\" x=\"771.5\" y=\"-899\" font-family=\"monospace\" font-size=\"10.00\">result1</text>\n<text text-anchor=\"middle\" x=\"771.5\" y=\"-888\" font-family=\"monospace\" font-size=\"10.00\"> (256, 64, 1, 4)</text>\n</g>\n<!-- 139881662330720&#45;&gt;139882058126240 -->\n<g id=\"edge24\" class=\"edge\">\n<title>139881662330720&#45;&gt;139882058126240</title>\n<path fill=\"none\" stroke=\"black\" d=\"M701.4,-957.74C721.18,-940.6 741.52,-922.98 755.16,-911.16\"/>\n</g>\n<!-- 139881662133920 -->\n<g id=\"node27\" class=\"node\">\n<title>139881662133920</title>\n<polygon fill=\"orange\" stroke=\"black\" points=\"697,-911 584,-911 584,-881 697,-881 697,-911\"/>\n<text text-anchor=\"middle\" x=\"640.5\" y=\"-899\" font-family=\"monospace\" font-size=\"10.00\">self</text>\n<text text-anchor=\"middle\" x=\"640.5\" y=\"-888\" font-family=\"monospace\" font-size=\"10.00\"> (256, 64, 1, 9)</text>\n</g>\n<!-- 139881662330720&#45;&gt;139881662133920 -->\n<g id=\"edge25\" class=\"edge\">\n<title>139881662330720&#45;&gt;139881662133920</title>\n<path fill=\"none\" stroke=\"black\" d=\"M640.5,-957.74C640.5,-940.6 640.5,-922.98 640.5,-911.16\"/>\n</g>\n<!-- 139881662316752 -->\n<g id=\"node28\" class=\"node\">\n<title>139881662316752</title>\n<polygon fill=\"lightgrey\" stroke=\"black\" points=\"724,-1142 557,-1142 557,-1101 724,-1101 724,-1142\"/>\n<text text-anchor=\"middle\" x=\"640.5\" y=\"-1130\" font-family=\"monospace\" font-size=\"10.00\">UnsqueezeBackward0</text>\n<text text-anchor=\"middle\" x=\"640.5\" y=\"-1119\" font-family=\"monospace\" font-size=\"10.00\">&#45;&#45;&#45;&#45;&#45;&#45;&#45;&#45;&#45;&#45;&#45;&#45;&#45;&#45;&#45;&#45;&#45;&#45;&#45;&#45;&#45;&#45;&#45;&#45;&#45;</text>\n<text text-anchor=\"middle\" x=\"640.5\" y=\"-1108\" font-family=\"monospace\" font-size=\"10.00\">dim: 18446744073709551614</text>\n</g>\n<!-- 139881662316752&#45;&gt;139881662330720 -->\n<g id=\"edge26\" class=\"edge\">\n<title>139881662316752&#45;&gt;139881662330720</title>\n<path fill=\"none\" stroke=\"black\" d=\"M640.5,-1100.94C640.5,-1093.53 640.5,-1084.64 640.5,-1075.38\"/>\n<polygon fill=\"black\" stroke=\"black\" points=\"644,-1075.26 640.5,-1065.26 637,-1075.26 644,-1075.26\"/>\n</g>\n<!-- 139881662323376 -->\n<g id=\"node29\" class=\"node\">\n<title>139881662323376</title>\n<polygon fill=\"lightgrey\" stroke=\"black\" points=\"600,-1230 403,-1230 403,-1178 600,-1178 600,-1230\"/>\n<text text-anchor=\"middle\" x=\"501.5\" y=\"-1218\" font-family=\"monospace\" font-size=\"10.00\">LeakyReluBackward0</text>\n<text text-anchor=\"middle\" x=\"501.5\" y=\"-1207\" font-family=\"monospace\" font-size=\"10.00\">&#45;&#45;&#45;&#45;&#45;&#45;&#45;&#45;&#45;&#45;&#45;&#45;&#45;&#45;&#45;&#45;&#45;&#45;&#45;&#45;&#45;&#45;&#45;&#45;&#45;&#45;&#45;&#45;&#45;&#45;</text>\n<text text-anchor=\"middle\" x=\"501.5\" y=\"-1196\" font-family=\"monospace\" font-size=\"10.00\">negative_slope: &#160;&#160;&#160;&#160;&#160;&#160;&#160;&#160;&#160;&#160;0.01</text>\n<text text-anchor=\"middle\" x=\"501.5\" y=\"-1185\" font-family=\"monospace\" font-size=\"10.00\">self &#160;&#160;&#160;&#160;&#160;&#160;&#160;&#160;&#160;: [saved tensor]</text>\n</g>\n<!-- 139881662323376&#45;&gt;139881662316752 -->\n<g id=\"edge27\" class=\"edge\">\n<title>139881662323376&#45;&gt;139881662316752</title>\n<path fill=\"none\" stroke=\"black\" d=\"M544.72,-1177.97C561.53,-1168.23 580.75,-1157.11 597.53,-1147.38\"/>\n<polygon fill=\"black\" stroke=\"black\" points=\"599.68,-1150.19 606.58,-1142.15 596.17,-1144.13 599.68,-1150.19\"/>\n</g>\n<!-- 139881662125680 -->\n<g id=\"node30\" class=\"node\">\n<title>139881662125680</title>\n<polygon fill=\"orange\" stroke=\"black\" points=\"539,-1136.5 444,-1136.5 444,-1106.5 539,-1106.5 539,-1136.5\"/>\n<text text-anchor=\"middle\" x=\"491.5\" y=\"-1124.5\" font-family=\"monospace\" font-size=\"10.00\">self</text>\n<text text-anchor=\"middle\" x=\"491.5\" y=\"-1113.5\" font-family=\"monospace\" font-size=\"10.00\"> (256, 64, 9)</text>\n</g>\n<!-- 139881662323376&#45;&gt;139881662125680 -->\n<g id=\"edge28\" class=\"edge\">\n<title>139881662323376&#45;&gt;139881662125680</title>\n<path fill=\"none\" stroke=\"black\" d=\"M498.39,-1177.97C496.72,-1164.49 494.71,-1148.35 493.3,-1136.96\"/>\n</g>\n<!-- 139881662321696 -->\n<g id=\"node31\" class=\"node\">\n<title>139881662321696</title>\n<polygon fill=\"lightgrey\" stroke=\"black\" points=\"835,-1395 614,-1395 614,-1266 835,-1266 835,-1395\"/>\n<text text-anchor=\"middle\" x=\"724.5\" y=\"-1383\" font-family=\"monospace\" font-size=\"10.00\">ConvolutionBackward0</text>\n<text text-anchor=\"middle\" x=\"724.5\" y=\"-1372\" font-family=\"monospace\" font-size=\"10.00\">&#45;&#45;&#45;&#45;&#45;&#45;&#45;&#45;&#45;&#45;&#45;&#45;&#45;&#45;&#45;&#45;&#45;&#45;&#45;&#45;&#45;&#45;&#45;&#45;&#45;&#45;&#45;&#45;&#45;&#45;&#45;&#45;&#45;&#45;</text>\n<text text-anchor=\"middle\" x=\"724.5\" y=\"-1361\" font-family=\"monospace\" font-size=\"10.00\">bias_sym_sizes_opt: &#160;&#160;&#160;&#160;&#160;&#160;&#160;&#160;&#160;(64,)</text>\n<text text-anchor=\"middle\" x=\"724.5\" y=\"-1350\" font-family=\"monospace\" font-size=\"10.00\">dilation &#160;&#160;&#160;&#160;&#160;&#160;&#160;&#160;&#160;: &#160;&#160;&#160;&#160;&#160;&#160;&#160;&#160;&#160;&#160;(1,)</text>\n<text text-anchor=\"middle\" x=\"724.5\" y=\"-1339\" font-family=\"monospace\" font-size=\"10.00\">groups &#160;&#160;&#160;&#160;&#160;&#160;&#160;&#160;&#160;&#160;&#160;: &#160;&#160;&#160;&#160;&#160;&#160;&#160;&#160;&#160;&#160;&#160;&#160;&#160;1</text>\n<text text-anchor=\"middle\" x=\"724.5\" y=\"-1328\" font-family=\"monospace\" font-size=\"10.00\">input &#160;&#160;&#160;&#160;&#160;&#160;&#160;&#160;&#160;&#160;&#160;&#160;: [saved tensor]</text>\n<text text-anchor=\"middle\" x=\"724.5\" y=\"-1317\" font-family=\"monospace\" font-size=\"10.00\">output_padding &#160;&#160;&#160;: &#160;&#160;&#160;&#160;&#160;&#160;&#160;&#160;&#160;&#160;(0,)</text>\n<text text-anchor=\"middle\" x=\"724.5\" y=\"-1306\" font-family=\"monospace\" font-size=\"10.00\">padding &#160;&#160;&#160;&#160;&#160;&#160;&#160;&#160;&#160;&#160;: &#160;&#160;&#160;&#160;&#160;&#160;&#160;&#160;&#160;&#160;(0,)</text>\n<text text-anchor=\"middle\" x=\"724.5\" y=\"-1295\" font-family=\"monospace\" font-size=\"10.00\">stride &#160;&#160;&#160;&#160;&#160;&#160;&#160;&#160;&#160;&#160;&#160;: &#160;&#160;&#160;&#160;&#160;&#160;&#160;&#160;&#160;&#160;(1,)</text>\n<text text-anchor=\"middle\" x=\"724.5\" y=\"-1284\" font-family=\"monospace\" font-size=\"10.00\">transposed &#160;&#160;&#160;&#160;&#160;&#160;&#160;: &#160;&#160;&#160;&#160;&#160;&#160;&#160;&#160;&#160;False</text>\n<text text-anchor=\"middle\" x=\"724.5\" y=\"-1273\" font-family=\"monospace\" font-size=\"10.00\">weight &#160;&#160;&#160;&#160;&#160;&#160;&#160;&#160;&#160;&#160;&#160;: [saved tensor]</text>\n</g>\n<!-- 139881662321696&#45;&gt;139881662323376 -->\n<g id=\"edge29\" class=\"edge\">\n<title>139881662321696&#45;&gt;139881662323376</title>\n<path fill=\"none\" stroke=\"black\" d=\"M613.98,-1267.8C593.56,-1256.39 573.09,-1244.97 555.32,-1235.05\"/>\n<polygon fill=\"black\" stroke=\"black\" points=\"556.72,-1231.82 546.28,-1230 553.31,-1237.93 556.72,-1231.82\"/>\n</g>\n<!-- 139881662130320 -->\n<g id=\"node32\" class=\"node\">\n<title>139881662130320</title>\n<polygon fill=\"orange\" stroke=\"black\" points=\"719,-1219 618,-1219 618,-1189 719,-1189 719,-1219\"/>\n<text text-anchor=\"middle\" x=\"668.5\" y=\"-1207\" font-family=\"monospace\" font-size=\"10.00\">input</text>\n<text text-anchor=\"middle\" x=\"668.5\" y=\"-1196\" font-family=\"monospace\" font-size=\"10.00\"> (256, 32, 11)</text>\n</g>\n<!-- 139881662321696&#45;&gt;139881662130320 -->\n<g id=\"edge30\" class=\"edge\">\n<title>139881662321696&#45;&gt;139881662130320</title>\n<path fill=\"none\" stroke=\"black\" d=\"M695.84,-1265.79C687.99,-1248.32 680.2,-1231.01 674.95,-1219.35\"/>\n</g>\n<!-- 139881662121760 -->\n<g id=\"node33\" class=\"node\">\n<title>139881662121760</title>\n<polygon fill=\"lightblue\" stroke=\"black\" points=\"826,-1219 737,-1219 737,-1189 826,-1189 826,-1219\"/>\n<text text-anchor=\"middle\" x=\"781.5\" y=\"-1207\" font-family=\"monospace\" font-size=\"10.00\">conv3.weight</text>\n<text text-anchor=\"middle\" x=\"781.5\" y=\"-1196\" font-family=\"monospace\" font-size=\"10.00\"> (64, 32, 3)</text>\n</g>\n<!-- 139881662321696&#45;&gt;139881662121760 -->\n<g id=\"edge31\" class=\"edge\">\n<title>139881662321696&#45;&gt;139881662121760</title>\n<path fill=\"none\" stroke=\"black\" d=\"M753.67,-1265.79C761.67,-1248.32 769.59,-1231.01 774.93,-1219.35\"/>\n</g>\n<!-- 139881662319392 -->\n<g id=\"node60\" class=\"node\">\n<title>139881662319392</title>\n<polygon fill=\"lightgrey\" stroke=\"black\" points=\"874,-1131 773,-1131 773,-1112 874,-1112 874,-1131\"/>\n<text text-anchor=\"middle\" x=\"823.5\" y=\"-1119\" font-family=\"monospace\" font-size=\"10.00\">AccumulateGrad</text>\n</g>\n<!-- 139881662121760&#45;&gt;139881662319392 -->\n<g id=\"edge61\" class=\"edge\">\n<title>139881662121760&#45;&gt;139881662319392</title>\n<path fill=\"none\" stroke=\"black\" d=\"M788.82,-1188.98C795.84,-1175.51 806.49,-1155.1 814.13,-1140.45\"/>\n<polygon fill=\"black\" stroke=\"black\" points=\"817.34,-1141.87 818.86,-1131.38 811.14,-1138.63 817.34,-1141.87\"/>\n</g>\n<!-- 139881662321504 -->\n<g id=\"node34\" class=\"node\">\n<title>139881662321504</title>\n<polygon fill=\"lightgrey\" stroke=\"black\" points=\"749,-1483 516,-1483 516,-1431 749,-1431 749,-1483\"/>\n<text text-anchor=\"middle\" x=\"632.5\" y=\"-1471\" font-family=\"monospace\" font-size=\"10.00\">SqueezeBackward1</text>\n<text text-anchor=\"middle\" x=\"632.5\" y=\"-1460\" font-family=\"monospace\" font-size=\"10.00\">&#45;&#45;&#45;&#45;&#45;&#45;&#45;&#45;&#45;&#45;&#45;&#45;&#45;&#45;&#45;&#45;&#45;&#45;&#45;&#45;&#45;&#45;&#45;&#45;&#45;&#45;&#45;&#45;&#45;&#45;&#45;&#45;&#45;&#45;&#45;&#45;</text>\n<text text-anchor=\"middle\" x=\"632.5\" y=\"-1449\" font-family=\"monospace\" font-size=\"10.00\">dim &#160;&#160;&#160;&#160;&#160;&#160;&#160;&#160;&#160;&#160;: 18446744073709551614</text>\n<text text-anchor=\"middle\" x=\"632.5\" y=\"-1438\" font-family=\"monospace\" font-size=\"10.00\">self_sym_sizes: &#160;&#160;&#160;&#160;(256, 32, 1, 11)</text>\n</g>\n<!-- 139881662321504&#45;&gt;139881662321696 -->\n<g id=\"edge32\" class=\"edge\">\n<title>139881662321504&#45;&gt;139881662321696</title>\n<path fill=\"none\" stroke=\"black\" d=\"M651.12,-1430.81C657.15,-1422.65 664.16,-1413.15 671.42,-1403.33\"/>\n<polygon fill=\"black\" stroke=\"black\" points=\"674.43,-1405.15 677.56,-1395.02 668.8,-1400.99 674.43,-1405.15\"/>\n</g>\n<!-- 139881662320016 -->\n<g id=\"node35\" class=\"node\">\n<title>139881662320016</title>\n<polygon fill=\"lightgrey\" stroke=\"black\" points=\"534,-1626 343,-1626 343,-1519 534,-1519 534,-1626\"/>\n<text text-anchor=\"middle\" x=\"438.5\" y=\"-1614\" font-family=\"monospace\" font-size=\"10.00\">MaxPool2DWithIndicesBackward0</text>\n<text text-anchor=\"middle\" x=\"438.5\" y=\"-1603\" font-family=\"monospace\" font-size=\"10.00\">&#45;&#45;&#45;&#45;&#45;&#45;&#45;&#45;&#45;&#45;&#45;&#45;&#45;&#45;&#45;&#45;&#45;&#45;&#45;&#45;&#45;&#45;&#45;&#45;&#45;&#45;&#45;&#45;&#45;</text>\n<text text-anchor=\"middle\" x=\"438.5\" y=\"-1592\" font-family=\"monospace\" font-size=\"10.00\">ceil_mode &#160;: &#160;&#160;&#160;&#160;&#160;&#160;&#160;&#160;&#160;False</text>\n<text text-anchor=\"middle\" x=\"438.5\" y=\"-1581\" font-family=\"monospace\" font-size=\"10.00\">dilation &#160;&#160;: &#160;&#160;&#160;&#160;&#160;&#160;&#160;&#160;(1, 1)</text>\n<text text-anchor=\"middle\" x=\"438.5\" y=\"-1570\" font-family=\"monospace\" font-size=\"10.00\">kernel_size: &#160;&#160;&#160;&#160;&#160;&#160;&#160;&#160;(1, 3)</text>\n<text text-anchor=\"middle\" x=\"438.5\" y=\"-1559\" font-family=\"monospace\" font-size=\"10.00\">padding &#160;&#160;&#160;: &#160;&#160;&#160;&#160;&#160;&#160;&#160;&#160;(0, 0)</text>\n<text text-anchor=\"middle\" x=\"438.5\" y=\"-1548\" font-family=\"monospace\" font-size=\"10.00\">result1 &#160;&#160;&#160;: [saved tensor]</text>\n<text text-anchor=\"middle\" x=\"438.5\" y=\"-1537\" font-family=\"monospace\" font-size=\"10.00\">self &#160;&#160;&#160;&#160;&#160;&#160;: [saved tensor]</text>\n<text text-anchor=\"middle\" x=\"438.5\" y=\"-1526\" font-family=\"monospace\" font-size=\"10.00\">stride &#160;&#160;&#160;&#160;: &#160;&#160;&#160;&#160;&#160;&#160;&#160;&#160;(1, 2)</text>\n</g>\n<!-- 139881662320016&#45;&gt;139881662321504 -->\n<g id=\"edge33\" class=\"edge\">\n<title>139881662320016&#45;&gt;139881662321504</title>\n<path fill=\"none\" stroke=\"black\" d=\"M528.4,-1518.9C546.38,-1508.38 564.69,-1497.67 580.83,-1488.23\"/>\n<polygon fill=\"black\" stroke=\"black\" points=\"582.7,-1491.19 589.56,-1483.12 579.17,-1485.15 582.7,-1491.19\"/>\n</g>\n<!-- 139881662648528 -->\n<g id=\"node36\" class=\"node\">\n<title>139881662648528</title>\n<polygon fill=\"orange\" stroke=\"black\" points=\"361,-1472 242,-1472 242,-1442 361,-1442 361,-1472\"/>\n<text text-anchor=\"middle\" x=\"301.5\" y=\"-1460\" font-family=\"monospace\" font-size=\"10.00\">result1</text>\n<text text-anchor=\"middle\" x=\"301.5\" y=\"-1449\" font-family=\"monospace\" font-size=\"10.00\"> (256, 32, 1, 11)</text>\n</g>\n<!-- 139881662320016&#45;&gt;139881662648528 -->\n<g id=\"edge34\" class=\"edge\">\n<title>139881662320016&#45;&gt;139881662648528</title>\n<path fill=\"none\" stroke=\"black\" d=\"M374.81,-1518.74C354.13,-1501.6 332.86,-1483.98 318.59,-1472.16\"/>\n</g>\n<!-- 139883244120848 -->\n<g id=\"node37\" class=\"node\">\n<title>139883244120848</title>\n<polygon fill=\"orange\" stroke=\"black\" points=\"498,-1472 379,-1472 379,-1442 498,-1442 498,-1472\"/>\n<text text-anchor=\"middle\" x=\"438.5\" y=\"-1460\" font-family=\"monospace\" font-size=\"10.00\">self</text>\n<text text-anchor=\"middle\" x=\"438.5\" y=\"-1449\" font-family=\"monospace\" font-size=\"10.00\"> (256, 32, 1, 23)</text>\n</g>\n<!-- 139881662320016&#45;&gt;139883244120848 -->\n<g id=\"edge35\" class=\"edge\">\n<title>139881662320016&#45;&gt;139883244120848</title>\n<path fill=\"none\" stroke=\"black\" d=\"M438.5,-1518.74C438.5,-1501.6 438.5,-1483.98 438.5,-1472.16\"/>\n</g>\n<!-- 139881662322320 -->\n<g id=\"node38\" class=\"node\">\n<title>139881662322320</title>\n<polygon fill=\"lightgrey\" stroke=\"black\" points=\"522,-1703 355,-1703 355,-1662 522,-1662 522,-1703\"/>\n<text text-anchor=\"middle\" x=\"438.5\" y=\"-1691\" font-family=\"monospace\" font-size=\"10.00\">UnsqueezeBackward0</text>\n<text text-anchor=\"middle\" x=\"438.5\" y=\"-1680\" font-family=\"monospace\" font-size=\"10.00\">&#45;&#45;&#45;&#45;&#45;&#45;&#45;&#45;&#45;&#45;&#45;&#45;&#45;&#45;&#45;&#45;&#45;&#45;&#45;&#45;&#45;&#45;&#45;&#45;&#45;</text>\n<text text-anchor=\"middle\" x=\"438.5\" y=\"-1669\" font-family=\"monospace\" font-size=\"10.00\">dim: 18446744073709551614</text>\n</g>\n<!-- 139881662322320&#45;&gt;139881662320016 -->\n<g id=\"edge36\" class=\"edge\">\n<title>139881662322320&#45;&gt;139881662320016</title>\n<path fill=\"none\" stroke=\"black\" d=\"M438.5,-1661.94C438.5,-1654.53 438.5,-1645.64 438.5,-1636.38\"/>\n<polygon fill=\"black\" stroke=\"black\" points=\"442,-1636.26 438.5,-1626.26 435,-1636.26 442,-1636.26\"/>\n</g>\n<!-- 139881662332496 -->\n<g id=\"node39\" class=\"node\">\n<title>139881662332496</title>\n<polygon fill=\"lightgrey\" stroke=\"black\" points=\"397,-1791 200,-1791 200,-1739 397,-1739 397,-1791\"/>\n<text text-anchor=\"middle\" x=\"298.5\" y=\"-1779\" font-family=\"monospace\" font-size=\"10.00\">LeakyReluBackward0</text>\n<text text-anchor=\"middle\" x=\"298.5\" y=\"-1768\" font-family=\"monospace\" font-size=\"10.00\">&#45;&#45;&#45;&#45;&#45;&#45;&#45;&#45;&#45;&#45;&#45;&#45;&#45;&#45;&#45;&#45;&#45;&#45;&#45;&#45;&#45;&#45;&#45;&#45;&#45;&#45;&#45;&#45;&#45;&#45;</text>\n<text text-anchor=\"middle\" x=\"298.5\" y=\"-1757\" font-family=\"monospace\" font-size=\"10.00\">negative_slope: &#160;&#160;&#160;&#160;&#160;&#160;&#160;&#160;&#160;&#160;0.01</text>\n<text text-anchor=\"middle\" x=\"298.5\" y=\"-1746\" font-family=\"monospace\" font-size=\"10.00\">self &#160;&#160;&#160;&#160;&#160;&#160;&#160;&#160;&#160;: [saved tensor]</text>\n</g>\n<!-- 139881662332496&#45;&gt;139881662322320 -->\n<g id=\"edge37\" class=\"edge\">\n<title>139881662332496&#45;&gt;139881662322320</title>\n<path fill=\"none\" stroke=\"black\" d=\"M342.03,-1738.97C358.96,-1729.23 378.32,-1718.11 395.22,-1708.38\"/>\n<polygon fill=\"black\" stroke=\"black\" points=\"397.41,-1711.16 404.33,-1703.15 393.92,-1705.1 397.41,-1711.16\"/>\n</g>\n<!-- 139881836393104 -->\n<g id=\"node40\" class=\"node\">\n<title>139881836393104</title>\n<polygon fill=\"orange\" stroke=\"black\" points=\"337,-1697.5 236,-1697.5 236,-1667.5 337,-1667.5 337,-1697.5\"/>\n<text text-anchor=\"middle\" x=\"286.5\" y=\"-1685.5\" font-family=\"monospace\" font-size=\"10.00\">self</text>\n<text text-anchor=\"middle\" x=\"286.5\" y=\"-1674.5\" font-family=\"monospace\" font-size=\"10.00\"> (256, 32, 23)</text>\n</g>\n<!-- 139881662332496&#45;&gt;139881836393104 -->\n<g id=\"edge38\" class=\"edge\">\n<title>139881662332496&#45;&gt;139881836393104</title>\n<path fill=\"none\" stroke=\"black\" d=\"M294.77,-1738.97C292.76,-1725.49 290.35,-1709.35 288.66,-1697.96\"/>\n</g>\n<!-- 139881662323232 -->\n<g id=\"node41\" class=\"node\">\n<title>139881662323232</title>\n<polygon fill=\"lightgrey\" stroke=\"black\" points=\"632,-1956 411,-1956 411,-1827 632,-1827 632,-1956\"/>\n<text text-anchor=\"middle\" x=\"521.5\" y=\"-1944\" font-family=\"monospace\" font-size=\"10.00\">ConvolutionBackward0</text>\n<text text-anchor=\"middle\" x=\"521.5\" y=\"-1933\" font-family=\"monospace\" font-size=\"10.00\">&#45;&#45;&#45;&#45;&#45;&#45;&#45;&#45;&#45;&#45;&#45;&#45;&#45;&#45;&#45;&#45;&#45;&#45;&#45;&#45;&#45;&#45;&#45;&#45;&#45;&#45;&#45;&#45;&#45;&#45;&#45;&#45;&#45;&#45;</text>\n<text text-anchor=\"middle\" x=\"521.5\" y=\"-1922\" font-family=\"monospace\" font-size=\"10.00\">bias_sym_sizes_opt: &#160;&#160;&#160;&#160;&#160;&#160;&#160;&#160;&#160;(32,)</text>\n<text text-anchor=\"middle\" x=\"521.5\" y=\"-1911\" font-family=\"monospace\" font-size=\"10.00\">dilation &#160;&#160;&#160;&#160;&#160;&#160;&#160;&#160;&#160;: &#160;&#160;&#160;&#160;&#160;&#160;&#160;&#160;&#160;&#160;(1,)</text>\n<text text-anchor=\"middle\" x=\"521.5\" y=\"-1900\" font-family=\"monospace\" font-size=\"10.00\">groups &#160;&#160;&#160;&#160;&#160;&#160;&#160;&#160;&#160;&#160;&#160;: &#160;&#160;&#160;&#160;&#160;&#160;&#160;&#160;&#160;&#160;&#160;&#160;&#160;1</text>\n<text text-anchor=\"middle\" x=\"521.5\" y=\"-1889\" font-family=\"monospace\" font-size=\"10.00\">input &#160;&#160;&#160;&#160;&#160;&#160;&#160;&#160;&#160;&#160;&#160;&#160;: [saved tensor]</text>\n<text text-anchor=\"middle\" x=\"521.5\" y=\"-1878\" font-family=\"monospace\" font-size=\"10.00\">output_padding &#160;&#160;&#160;: &#160;&#160;&#160;&#160;&#160;&#160;&#160;&#160;&#160;&#160;(0,)</text>\n<text text-anchor=\"middle\" x=\"521.5\" y=\"-1867\" font-family=\"monospace\" font-size=\"10.00\">padding &#160;&#160;&#160;&#160;&#160;&#160;&#160;&#160;&#160;&#160;: &#160;&#160;&#160;&#160;&#160;&#160;&#160;&#160;&#160;&#160;(0,)</text>\n<text text-anchor=\"middle\" x=\"521.5\" y=\"-1856\" font-family=\"monospace\" font-size=\"10.00\">stride &#160;&#160;&#160;&#160;&#160;&#160;&#160;&#160;&#160;&#160;&#160;: &#160;&#160;&#160;&#160;&#160;&#160;&#160;&#160;&#160;&#160;(1,)</text>\n<text text-anchor=\"middle\" x=\"521.5\" y=\"-1845\" font-family=\"monospace\" font-size=\"10.00\">transposed &#160;&#160;&#160;&#160;&#160;&#160;&#160;: &#160;&#160;&#160;&#160;&#160;&#160;&#160;&#160;&#160;False</text>\n<text text-anchor=\"middle\" x=\"521.5\" y=\"-1834\" font-family=\"monospace\" font-size=\"10.00\">weight &#160;&#160;&#160;&#160;&#160;&#160;&#160;&#160;&#160;&#160;&#160;: [saved tensor]</text>\n</g>\n<!-- 139881662323232&#45;&gt;139881662332496 -->\n<g id=\"edge39\" class=\"edge\">\n<title>139881662323232&#45;&gt;139881662332496</title>\n<path fill=\"none\" stroke=\"black\" d=\"M410.98,-1828.8C390.56,-1817.39 370.09,-1805.97 352.32,-1796.05\"/>\n<polygon fill=\"black\" stroke=\"black\" points=\"353.72,-1792.82 343.28,-1791 350.31,-1798.93 353.72,-1792.82\"/>\n</g>\n<!-- 139881836395664 -->\n<g id=\"node42\" class=\"node\">\n<title>139881836395664</title>\n<polygon fill=\"orange\" stroke=\"black\" points=\"516,-1780 415,-1780 415,-1750 516,-1750 516,-1780\"/>\n<text text-anchor=\"middle\" x=\"465.5\" y=\"-1768\" font-family=\"monospace\" font-size=\"10.00\">input</text>\n<text text-anchor=\"middle\" x=\"465.5\" y=\"-1757\" font-family=\"monospace\" font-size=\"10.00\"> (256, 16, 27)</text>\n</g>\n<!-- 139881662323232&#45;&gt;139881836395664 -->\n<g id=\"edge40\" class=\"edge\">\n<title>139881662323232&#45;&gt;139881836395664</title>\n<path fill=\"none\" stroke=\"black\" d=\"M492.84,-1826.79C484.99,-1809.32 477.2,-1792.01 471.95,-1780.35\"/>\n</g>\n<!-- 139881953784784 -->\n<g id=\"node43\" class=\"node\">\n<title>139881953784784</title>\n<polygon fill=\"lightblue\" stroke=\"black\" points=\"623,-1780 534,-1780 534,-1750 623,-1750 623,-1780\"/>\n<text text-anchor=\"middle\" x=\"578.5\" y=\"-1768\" font-family=\"monospace\" font-size=\"10.00\">conv2.weight</text>\n<text text-anchor=\"middle\" x=\"578.5\" y=\"-1757\" font-family=\"monospace\" font-size=\"10.00\"> (32, 16, 5)</text>\n</g>\n<!-- 139881662323232&#45;&gt;139881953784784 -->\n<g id=\"edge41\" class=\"edge\">\n<title>139881662323232&#45;&gt;139881953784784</title>\n<path fill=\"none\" stroke=\"black\" d=\"M550.67,-1826.79C558.67,-1809.32 566.59,-1792.01 571.93,-1780.35\"/>\n</g>\n<!-- 139881662320592 -->\n<g id=\"node57\" class=\"node\">\n<title>139881662320592</title>\n<polygon fill=\"lightgrey\" stroke=\"black\" points=\"671,-1692 570,-1692 570,-1673 671,-1673 671,-1692\"/>\n<text text-anchor=\"middle\" x=\"620.5\" y=\"-1680\" font-family=\"monospace\" font-size=\"10.00\">AccumulateGrad</text>\n</g>\n<!-- 139881953784784&#45;&gt;139881662320592 -->\n<g id=\"edge57\" class=\"edge\">\n<title>139881953784784&#45;&gt;139881662320592</title>\n<path fill=\"none\" stroke=\"black\" d=\"M585.82,-1749.98C592.84,-1736.51 603.49,-1716.1 611.13,-1701.45\"/>\n<polygon fill=\"black\" stroke=\"black\" points=\"614.34,-1702.87 615.86,-1692.38 608.14,-1699.63 614.34,-1702.87\"/>\n</g>\n<!-- 139881662326928 -->\n<g id=\"node44\" class=\"node\">\n<title>139881662326928</title>\n<polygon fill=\"lightgrey\" stroke=\"black\" points=\"546,-2044 313,-2044 313,-1992 546,-1992 546,-2044\"/>\n<text text-anchor=\"middle\" x=\"429.5\" y=\"-2032\" font-family=\"monospace\" font-size=\"10.00\">SqueezeBackward1</text>\n<text text-anchor=\"middle\" x=\"429.5\" y=\"-2021\" font-family=\"monospace\" font-size=\"10.00\">&#45;&#45;&#45;&#45;&#45;&#45;&#45;&#45;&#45;&#45;&#45;&#45;&#45;&#45;&#45;&#45;&#45;&#45;&#45;&#45;&#45;&#45;&#45;&#45;&#45;&#45;&#45;&#45;&#45;&#45;&#45;&#45;&#45;&#45;&#45;&#45;</text>\n<text text-anchor=\"middle\" x=\"429.5\" y=\"-2010\" font-family=\"monospace\" font-size=\"10.00\">dim &#160;&#160;&#160;&#160;&#160;&#160;&#160;&#160;&#160;&#160;: 18446744073709551614</text>\n<text text-anchor=\"middle\" x=\"429.5\" y=\"-1999\" font-family=\"monospace\" font-size=\"10.00\">self_sym_sizes: &#160;&#160;&#160;&#160;(256, 16, 1, 27)</text>\n</g>\n<!-- 139881662326928&#45;&gt;139881662323232 -->\n<g id=\"edge42\" class=\"edge\">\n<title>139881662326928&#45;&gt;139881662323232</title>\n<path fill=\"none\" stroke=\"black\" d=\"M448.12,-1991.81C454.15,-1983.65 461.16,-1974.15 468.42,-1964.33\"/>\n<polygon fill=\"black\" stroke=\"black\" points=\"471.43,-1966.15 474.56,-1956.02 465.8,-1961.99 471.43,-1966.15\"/>\n</g>\n<!-- 139881662321936 -->\n<g id=\"node45\" class=\"node\">\n<title>139881662321936</title>\n<polygon fill=\"lightgrey\" stroke=\"black\" points=\"331,-2187 140,-2187 140,-2080 331,-2080 331,-2187\"/>\n<text text-anchor=\"middle\" x=\"235.5\" y=\"-2175\" font-family=\"monospace\" font-size=\"10.00\">MaxPool2DWithIndicesBackward0</text>\n<text text-anchor=\"middle\" x=\"235.5\" y=\"-2164\" font-family=\"monospace\" font-size=\"10.00\">&#45;&#45;&#45;&#45;&#45;&#45;&#45;&#45;&#45;&#45;&#45;&#45;&#45;&#45;&#45;&#45;&#45;&#45;&#45;&#45;&#45;&#45;&#45;&#45;&#45;&#45;&#45;&#45;&#45;</text>\n<text text-anchor=\"middle\" x=\"235.5\" y=\"-2153\" font-family=\"monospace\" font-size=\"10.00\">ceil_mode &#160;: &#160;&#160;&#160;&#160;&#160;&#160;&#160;&#160;&#160;False</text>\n<text text-anchor=\"middle\" x=\"235.5\" y=\"-2142\" font-family=\"monospace\" font-size=\"10.00\">dilation &#160;&#160;: &#160;&#160;&#160;&#160;&#160;&#160;&#160;&#160;(1, 1)</text>\n<text text-anchor=\"middle\" x=\"235.5\" y=\"-2131\" font-family=\"monospace\" font-size=\"10.00\">kernel_size: &#160;&#160;&#160;&#160;&#160;&#160;&#160;&#160;(1, 3)</text>\n<text text-anchor=\"middle\" x=\"235.5\" y=\"-2120\" font-family=\"monospace\" font-size=\"10.00\">padding &#160;&#160;&#160;: &#160;&#160;&#160;&#160;&#160;&#160;&#160;&#160;(0, 0)</text>\n<text text-anchor=\"middle\" x=\"235.5\" y=\"-2109\" font-family=\"monospace\" font-size=\"10.00\">result1 &#160;&#160;&#160;: [saved tensor]</text>\n<text text-anchor=\"middle\" x=\"235.5\" y=\"-2098\" font-family=\"monospace\" font-size=\"10.00\">self &#160;&#160;&#160;&#160;&#160;&#160;: [saved tensor]</text>\n<text text-anchor=\"middle\" x=\"235.5\" y=\"-2087\" font-family=\"monospace\" font-size=\"10.00\">stride &#160;&#160;&#160;&#160;: &#160;&#160;&#160;&#160;&#160;&#160;&#160;&#160;(1, 2)</text>\n</g>\n<!-- 139881662321936&#45;&gt;139881662326928 -->\n<g id=\"edge43\" class=\"edge\">\n<title>139881662321936&#45;&gt;139881662326928</title>\n<path fill=\"none\" stroke=\"black\" d=\"M325.4,-2079.9C343.38,-2069.38 361.69,-2058.67 377.83,-2049.23\"/>\n<polygon fill=\"black\" stroke=\"black\" points=\"379.7,-2052.19 386.56,-2044.12 376.17,-2046.15 379.7,-2052.19\"/>\n</g>\n<!-- 139882008184848 -->\n<g id=\"node46\" class=\"node\">\n<title>139882008184848</title>\n<polygon fill=\"orange\" stroke=\"black\" points=\"158,-2033 39,-2033 39,-2003 158,-2003 158,-2033\"/>\n<text text-anchor=\"middle\" x=\"98.5\" y=\"-2021\" font-family=\"monospace\" font-size=\"10.00\">result1</text>\n<text text-anchor=\"middle\" x=\"98.5\" y=\"-2010\" font-family=\"monospace\" font-size=\"10.00\"> (256, 16, 1, 27)</text>\n</g>\n<!-- 139881662321936&#45;&gt;139882008184848 -->\n<g id=\"edge44\" class=\"edge\">\n<title>139881662321936&#45;&gt;139882008184848</title>\n<path fill=\"none\" stroke=\"black\" d=\"M171.81,-2079.74C151.13,-2062.6 129.86,-2044.98 115.59,-2033.16\"/>\n</g>\n<!-- 139882058324288 -->\n<g id=\"node47\" class=\"node\">\n<title>139882058324288</title>\n<polygon fill=\"orange\" stroke=\"black\" points=\"295,-2033 176,-2033 176,-2003 295,-2003 295,-2033\"/>\n<text text-anchor=\"middle\" x=\"235.5\" y=\"-2021\" font-family=\"monospace\" font-size=\"10.00\">self</text>\n<text text-anchor=\"middle\" x=\"235.5\" y=\"-2010\" font-family=\"monospace\" font-size=\"10.00\"> (256, 16, 1, 56)</text>\n</g>\n<!-- 139881662321936&#45;&gt;139882058324288 -->\n<g id=\"edge45\" class=\"edge\">\n<title>139881662321936&#45;&gt;139882058324288</title>\n<path fill=\"none\" stroke=\"black\" d=\"M235.5,-2079.74C235.5,-2062.6 235.5,-2044.98 235.5,-2033.16\"/>\n</g>\n<!-- 139881662323136 -->\n<g id=\"node48\" class=\"node\">\n<title>139881662323136</title>\n<polygon fill=\"lightgrey\" stroke=\"black\" points=\"319,-2264 152,-2264 152,-2223 319,-2223 319,-2264\"/>\n<text text-anchor=\"middle\" x=\"235.5\" y=\"-2252\" font-family=\"monospace\" font-size=\"10.00\">UnsqueezeBackward0</text>\n<text text-anchor=\"middle\" x=\"235.5\" y=\"-2241\" font-family=\"monospace\" font-size=\"10.00\">&#45;&#45;&#45;&#45;&#45;&#45;&#45;&#45;&#45;&#45;&#45;&#45;&#45;&#45;&#45;&#45;&#45;&#45;&#45;&#45;&#45;&#45;&#45;&#45;&#45;</text>\n<text text-anchor=\"middle\" x=\"235.5\" y=\"-2230\" font-family=\"monospace\" font-size=\"10.00\">dim: 18446744073709551614</text>\n</g>\n<!-- 139881662323136&#45;&gt;139881662321936 -->\n<g id=\"edge46\" class=\"edge\">\n<title>139881662323136&#45;&gt;139881662321936</title>\n<path fill=\"none\" stroke=\"black\" d=\"M235.5,-2222.94C235.5,-2215.53 235.5,-2206.64 235.5,-2197.38\"/>\n<polygon fill=\"black\" stroke=\"black\" points=\"239,-2197.26 235.5,-2187.26 232,-2197.26 239,-2197.26\"/>\n</g>\n<!-- 139881662326496 -->\n<g id=\"node49\" class=\"node\">\n<title>139881662326496</title>\n<polygon fill=\"lightgrey\" stroke=\"black\" points=\"197,-2352 0,-2352 0,-2300 197,-2300 197,-2352\"/>\n<text text-anchor=\"middle\" x=\"98.5\" y=\"-2340\" font-family=\"monospace\" font-size=\"10.00\">LeakyReluBackward0</text>\n<text text-anchor=\"middle\" x=\"98.5\" y=\"-2329\" font-family=\"monospace\" font-size=\"10.00\">&#45;&#45;&#45;&#45;&#45;&#45;&#45;&#45;&#45;&#45;&#45;&#45;&#45;&#45;&#45;&#45;&#45;&#45;&#45;&#45;&#45;&#45;&#45;&#45;&#45;&#45;&#45;&#45;&#45;&#45;</text>\n<text text-anchor=\"middle\" x=\"98.5\" y=\"-2318\" font-family=\"monospace\" font-size=\"10.00\">negative_slope: &#160;&#160;&#160;&#160;&#160;&#160;&#160;&#160;&#160;&#160;0.01</text>\n<text text-anchor=\"middle\" x=\"98.5\" y=\"-2307\" font-family=\"monospace\" font-size=\"10.00\">self &#160;&#160;&#160;&#160;&#160;&#160;&#160;&#160;&#160;: [saved tensor]</text>\n</g>\n<!-- 139881662326496&#45;&gt;139881662323136 -->\n<g id=\"edge47\" class=\"edge\">\n<title>139881662326496&#45;&gt;139881662323136</title>\n<path fill=\"none\" stroke=\"black\" d=\"M141.1,-2299.97C157.67,-2290.23 176.61,-2279.11 193.15,-2269.38\"/>\n<polygon fill=\"black\" stroke=\"black\" points=\"195.22,-2272.23 202.07,-2264.15 191.67,-2266.19 195.22,-2272.23\"/>\n</g>\n<!-- 139882058383984 -->\n<g id=\"node50\" class=\"node\">\n<title>139882058383984</title>\n<polygon fill=\"orange\" stroke=\"black\" points=\"134,-2258.5 33,-2258.5 33,-2228.5 134,-2228.5 134,-2258.5\"/>\n<text text-anchor=\"middle\" x=\"83.5\" y=\"-2246.5\" font-family=\"monospace\" font-size=\"10.00\">self</text>\n<text text-anchor=\"middle\" x=\"83.5\" y=\"-2235.5\" font-family=\"monospace\" font-size=\"10.00\"> (256, 16, 56)</text>\n</g>\n<!-- 139881662326496&#45;&gt;139882058383984 -->\n<g id=\"edge48\" class=\"edge\">\n<title>139881662326496&#45;&gt;139882058383984</title>\n<path fill=\"none\" stroke=\"black\" d=\"M93.84,-2299.97C91.32,-2286.49 88.32,-2270.35 86.19,-2258.96\"/>\n</g>\n<!-- 139881662318672 -->\n<g id=\"node51\" class=\"node\">\n<title>139881662318672</title>\n<polygon fill=\"lightgrey\" stroke=\"black\" points=\"428,-2517 207,-2517 207,-2388 428,-2388 428,-2517\"/>\n<text text-anchor=\"middle\" x=\"317.5\" y=\"-2505\" font-family=\"monospace\" font-size=\"10.00\">ConvolutionBackward0</text>\n<text text-anchor=\"middle\" x=\"317.5\" y=\"-2494\" font-family=\"monospace\" font-size=\"10.00\">&#45;&#45;&#45;&#45;&#45;&#45;&#45;&#45;&#45;&#45;&#45;&#45;&#45;&#45;&#45;&#45;&#45;&#45;&#45;&#45;&#45;&#45;&#45;&#45;&#45;&#45;&#45;&#45;&#45;&#45;&#45;&#45;&#45;&#45;</text>\n<text text-anchor=\"middle\" x=\"317.5\" y=\"-2483\" font-family=\"monospace\" font-size=\"10.00\">bias_sym_sizes_opt: &#160;&#160;&#160;&#160;&#160;&#160;&#160;&#160;&#160;(16,)</text>\n<text text-anchor=\"middle\" x=\"317.5\" y=\"-2472\" font-family=\"monospace\" font-size=\"10.00\">dilation &#160;&#160;&#160;&#160;&#160;&#160;&#160;&#160;&#160;: &#160;&#160;&#160;&#160;&#160;&#160;&#160;&#160;&#160;&#160;(1,)</text>\n<text text-anchor=\"middle\" x=\"317.5\" y=\"-2461\" font-family=\"monospace\" font-size=\"10.00\">groups &#160;&#160;&#160;&#160;&#160;&#160;&#160;&#160;&#160;&#160;&#160;: &#160;&#160;&#160;&#160;&#160;&#160;&#160;&#160;&#160;&#160;&#160;&#160;&#160;1</text>\n<text text-anchor=\"middle\" x=\"317.5\" y=\"-2450\" font-family=\"monospace\" font-size=\"10.00\">input &#160;&#160;&#160;&#160;&#160;&#160;&#160;&#160;&#160;&#160;&#160;&#160;: [saved tensor]</text>\n<text text-anchor=\"middle\" x=\"317.5\" y=\"-2439\" font-family=\"monospace\" font-size=\"10.00\">output_padding &#160;&#160;&#160;: &#160;&#160;&#160;&#160;&#160;&#160;&#160;&#160;&#160;&#160;(0,)</text>\n<text text-anchor=\"middle\" x=\"317.5\" y=\"-2428\" font-family=\"monospace\" font-size=\"10.00\">padding &#160;&#160;&#160;&#160;&#160;&#160;&#160;&#160;&#160;&#160;: &#160;&#160;&#160;&#160;&#160;&#160;&#160;&#160;&#160;&#160;(0,)</text>\n<text text-anchor=\"middle\" x=\"317.5\" y=\"-2417\" font-family=\"monospace\" font-size=\"10.00\">stride &#160;&#160;&#160;&#160;&#160;&#160;&#160;&#160;&#160;&#160;&#160;: &#160;&#160;&#160;&#160;&#160;&#160;&#160;&#160;&#160;&#160;(1,)</text>\n<text text-anchor=\"middle\" x=\"317.5\" y=\"-2406\" font-family=\"monospace\" font-size=\"10.00\">transposed &#160;&#160;&#160;&#160;&#160;&#160;&#160;: &#160;&#160;&#160;&#160;&#160;&#160;&#160;&#160;&#160;False</text>\n<text text-anchor=\"middle\" x=\"317.5\" y=\"-2395\" font-family=\"monospace\" font-size=\"10.00\">weight &#160;&#160;&#160;&#160;&#160;&#160;&#160;&#160;&#160;&#160;&#160;: [saved tensor]</text>\n</g>\n<!-- 139881662318672&#45;&gt;139881662326496 -->\n<g id=\"edge49\" class=\"edge\">\n<title>139881662318672&#45;&gt;139881662326496</title>\n<path fill=\"none\" stroke=\"black\" d=\"M206.72,-2388.52C187.56,-2377.63 168.46,-2366.77 151.75,-2357.27\"/>\n<polygon fill=\"black\" stroke=\"black\" points=\"153.15,-2354.04 142.73,-2352.15 149.7,-2360.13 153.15,-2354.04\"/>\n</g>\n<!-- 139882016299328 -->\n<g id=\"node52\" class=\"node\">\n<title>139882016299328</title>\n<polygon fill=\"orange\" stroke=\"black\" points=\"310,-2341 215,-2341 215,-2311 310,-2311 310,-2341\"/>\n<text text-anchor=\"middle\" x=\"262.5\" y=\"-2329\" font-family=\"monospace\" font-size=\"10.00\">input</text>\n<text text-anchor=\"middle\" x=\"262.5\" y=\"-2318\" font-family=\"monospace\" font-size=\"10.00\"> (256, 1, 60)</text>\n</g>\n<!-- 139881662318672&#45;&gt;139882016299328 -->\n<g id=\"edge50\" class=\"edge\">\n<title>139881662318672&#45;&gt;139882016299328</title>\n<path fill=\"none\" stroke=\"black\" d=\"M289.36,-2387.79C281.64,-2370.32 273.99,-2353.01 268.84,-2341.35\"/>\n</g>\n<!-- 139881662123360 -->\n<g id=\"node53\" class=\"node\">\n<title>139881662123360</title>\n<polygon fill=\"lightblue\" stroke=\"black\" points=\"417,-2341 328,-2341 328,-2311 417,-2311 417,-2341\"/>\n<text text-anchor=\"middle\" x=\"372.5\" y=\"-2329\" font-family=\"monospace\" font-size=\"10.00\">conv1.weight</text>\n<text text-anchor=\"middle\" x=\"372.5\" y=\"-2318\" font-family=\"monospace\" font-size=\"10.00\"> (16, 1, 5)</text>\n</g>\n<!-- 139881662318672&#45;&gt;139881662123360 -->\n<g id=\"edge51\" class=\"edge\">\n<title>139881662318672&#45;&gt;139881662123360</title>\n<path fill=\"none\" stroke=\"black\" d=\"M345.64,-2387.79C353.36,-2370.32 361.01,-2353.01 366.16,-2341.35\"/>\n</g>\n<!-- 139881662316848 -->\n<g id=\"node54\" class=\"node\">\n<title>139881662316848</title>\n<polygon fill=\"lightgrey\" stroke=\"black\" points=\"467,-2253 366,-2253 366,-2234 467,-2234 467,-2253\"/>\n<text text-anchor=\"middle\" x=\"416.5\" y=\"-2241\" font-family=\"monospace\" font-size=\"10.00\">AccumulateGrad</text>\n</g>\n<!-- 139881662123360&#45;&gt;139881662316848 -->\n<g id=\"edge53\" class=\"edge\">\n<title>139881662123360&#45;&gt;139881662316848</title>\n<path fill=\"none\" stroke=\"black\" d=\"M380.16,-2310.98C387.53,-2297.51 398.68,-2277.1 406.69,-2262.45\"/>\n<polygon fill=\"black\" stroke=\"black\" points=\"409.92,-2263.84 411.64,-2253.38 403.78,-2260.48 409.92,-2263.84\"/>\n</g>\n<!-- 139881662316848&#45;&gt;139881662318672 -->\n<g id=\"edge52\" class=\"edge\">\n<title>139881662316848&#45;&gt;139881662318672</title>\n<path fill=\"none\" stroke=\"black\" d=\"M419.87,-2253.04C426.73,-2271.84 440.46,-2317.87 425.5,-2352 421.15,-2361.92 415.27,-2371.29 408.48,-2380.02\"/>\n<polygon fill=\"black\" stroke=\"black\" points=\"405.69,-2377.91 402.02,-2387.85 411.08,-2382.37 405.69,-2377.91\"/>\n</g>\n<!-- 139881662331728 -->\n<g id=\"node55\" class=\"node\">\n<title>139881662331728</title>\n<polygon fill=\"lightgrey\" stroke=\"black\" points=\"368,-2572 267,-2572 267,-2553 368,-2553 368,-2572\"/>\n<text text-anchor=\"middle\" x=\"317.5\" y=\"-2560\" font-family=\"monospace\" font-size=\"10.00\">AccumulateGrad</text>\n</g>\n<!-- 139881662331728&#45;&gt;139881662318672 -->\n<g id=\"edge54\" class=\"edge\">\n<title>139881662331728&#45;&gt;139881662318672</title>\n<path fill=\"none\" stroke=\"black\" d=\"M317.5,-2552.66C317.5,-2546.47 317.5,-2537.52 317.5,-2527.51\"/>\n<polygon fill=\"black\" stroke=\"black\" points=\"321,-2527.21 317.5,-2517.21 314,-2527.21 321,-2527.21\"/>\n</g>\n<!-- 139881662132080 -->\n<g id=\"node56\" class=\"node\">\n<title>139881662132080</title>\n<polygon fill=\"lightblue\" stroke=\"black\" points=\"356,-2638 279,-2638 279,-2608 356,-2608 356,-2638\"/>\n<text text-anchor=\"middle\" x=\"317.5\" y=\"-2626\" font-family=\"monospace\" font-size=\"10.00\">conv1.bias</text>\n<text text-anchor=\"middle\" x=\"317.5\" y=\"-2615\" font-family=\"monospace\" font-size=\"10.00\"> (16)</text>\n</g>\n<!-- 139881662132080&#45;&gt;139881662331728 -->\n<g id=\"edge55\" class=\"edge\">\n<title>139881662132080&#45;&gt;139881662331728</title>\n<path fill=\"none\" stroke=\"black\" d=\"M317.5,-2607.84C317.5,-2600.21 317.5,-2590.7 317.5,-2582.45\"/>\n<polygon fill=\"black\" stroke=\"black\" points=\"321,-2582.27 317.5,-2572.27 314,-2582.27 321,-2582.27\"/>\n</g>\n<!-- 139881662320592&#45;&gt;139881662323232 -->\n<g id=\"edge56\" class=\"edge\">\n<title>139881662320592&#45;&gt;139881662323232</title>\n<path fill=\"none\" stroke=\"black\" d=\"M624.15,-1692.04C631.6,-1710.85 646.65,-1756.88 631.5,-1791 627.1,-1800.91 621.17,-1810.25 614.34,-1818.95\"/>\n<polygon fill=\"black\" stroke=\"black\" points=\"611.55,-1816.83 607.82,-1826.75 616.92,-1821.31 611.55,-1816.83\"/>\n</g>\n<!-- 139881662318576 -->\n<g id=\"node58\" class=\"node\">\n<title>139881662318576</title>\n<polygon fill=\"lightgrey\" stroke=\"black\" points=\"665,-2027.5 564,-2027.5 564,-2008.5 665,-2008.5 665,-2027.5\"/>\n<text text-anchor=\"middle\" x=\"614.5\" y=\"-2015.5\" font-family=\"monospace\" font-size=\"10.00\">AccumulateGrad</text>\n</g>\n<!-- 139881662318576&#45;&gt;139881662323232 -->\n<g id=\"edge58\" class=\"edge\">\n<title>139881662318576&#45;&gt;139881662323232</title>\n<path fill=\"none\" stroke=\"black\" d=\"M608.11,-2008.44C600.88,-1998.77 588.39,-1982.04 575.1,-1964.26\"/>\n<polygon fill=\"black\" stroke=\"black\" points=\"577.75,-1961.95 568.96,-1956.03 572.14,-1966.14 577.75,-1961.95\"/>\n</g>\n<!-- 139881662122160 -->\n<g id=\"node59\" class=\"node\">\n<title>139881662122160</title>\n<polygon fill=\"lightblue\" stroke=\"black\" points=\"653,-2148.5 576,-2148.5 576,-2118.5 653,-2118.5 653,-2148.5\"/>\n<text text-anchor=\"middle\" x=\"614.5\" y=\"-2136.5\" font-family=\"monospace\" font-size=\"10.00\">conv2.bias</text>\n<text text-anchor=\"middle\" x=\"614.5\" y=\"-2125.5\" font-family=\"monospace\" font-size=\"10.00\"> (32)</text>\n</g>\n<!-- 139881662122160&#45;&gt;139881662318576 -->\n<g id=\"edge59\" class=\"edge\">\n<title>139881662122160&#45;&gt;139881662318576</title>\n<path fill=\"none\" stroke=\"black\" d=\"M614.5,-2118.13C614.5,-2097.71 614.5,-2060.31 614.5,-2037.74\"/>\n<polygon fill=\"black\" stroke=\"black\" points=\"618,-2037.73 614.5,-2027.73 611,-2037.73 618,-2037.73\"/>\n</g>\n<!-- 139881662319392&#45;&gt;139881662321696 -->\n<g id=\"edge60\" class=\"edge\">\n<title>139881662319392&#45;&gt;139881662321696</title>\n<path fill=\"none\" stroke=\"black\" d=\"M827.29,-1131.04C835.03,-1149.85 850.74,-1195.88 835.5,-1230 831.06,-1239.95 825.07,-1249.32 818.17,-1258.03\"/>\n<polygon fill=\"black\" stroke=\"black\" points=\"815.36,-1255.94 811.6,-1265.84 820.71,-1260.44 815.36,-1255.94\"/>\n</g>\n<!-- 139881662332784 -->\n<g id=\"node61\" class=\"node\">\n<title>139881662332784</title>\n<polygon fill=\"lightgrey\" stroke=\"black\" points=\"868,-1466.5 767,-1466.5 767,-1447.5 868,-1447.5 868,-1466.5\"/>\n<text text-anchor=\"middle\" x=\"817.5\" y=\"-1454.5\" font-family=\"monospace\" font-size=\"10.00\">AccumulateGrad</text>\n</g>\n<!-- 139881662332784&#45;&gt;139881662321696 -->\n<g id=\"edge62\" class=\"edge\">\n<title>139881662332784&#45;&gt;139881662321696</title>\n<path fill=\"none\" stroke=\"black\" d=\"M811.11,-1447.44C803.88,-1437.77 791.39,-1421.04 778.1,-1403.26\"/>\n<polygon fill=\"black\" stroke=\"black\" points=\"780.75,-1400.95 771.96,-1395.03 775.14,-1405.14 780.75,-1400.95\"/>\n</g>\n<!-- 139881662124720 -->\n<g id=\"node62\" class=\"node\">\n<title>139881662124720</title>\n<polygon fill=\"lightblue\" stroke=\"black\" points=\"856,-1587.5 779,-1587.5 779,-1557.5 856,-1557.5 856,-1587.5\"/>\n<text text-anchor=\"middle\" x=\"817.5\" y=\"-1575.5\" font-family=\"monospace\" font-size=\"10.00\">conv3.bias</text>\n<text text-anchor=\"middle\" x=\"817.5\" y=\"-1564.5\" font-family=\"monospace\" font-size=\"10.00\"> (64)</text>\n</g>\n<!-- 139881662124720&#45;&gt;139881662332784 -->\n<g id=\"edge63\" class=\"edge\">\n<title>139881662124720&#45;&gt;139881662332784</title>\n<path fill=\"none\" stroke=\"black\" d=\"M817.5,-1557.13C817.5,-1536.71 817.5,-1499.31 817.5,-1476.74\"/>\n<polygon fill=\"black\" stroke=\"black\" points=\"821,-1476.73 817.5,-1466.73 814,-1476.73 821,-1476.73\"/>\n</g>\n<!-- 139881662326640 -->\n<g id=\"node63\" class=\"node\">\n<title>139881662326640</title>\n<polygon fill=\"lightgrey\" stroke=\"black\" points=\"932,-823 855,-823 855,-804 932,-804 932,-823\"/>\n<text text-anchor=\"middle\" x=\"893.5\" y=\"-811\" font-family=\"monospace\" font-size=\"10.00\">TBackward0</text>\n</g>\n<!-- 139881662326640&#45;&gt;139881662329136 -->\n<g id=\"edge64\" class=\"edge\">\n<title>139881662326640&#45;&gt;139881662329136</title>\n<path fill=\"none\" stroke=\"black\" d=\"M893.5,-803.97C893.5,-795.63 893.5,-782.09 893.5,-767.47\"/>\n<polygon fill=\"black\" stroke=\"black\" points=\"897,-767.22 893.5,-757.22 890,-767.22 897,-767.22\"/>\n</g>\n<!-- 139881662320640 -->\n<g id=\"node64\" class=\"node\">\n<title>139881662320640</title>\n<polygon fill=\"lightgrey\" stroke=\"black\" points=\"947,-905.5 846,-905.5 846,-886.5 947,-886.5 947,-905.5\"/>\n<text text-anchor=\"middle\" x=\"896.5\" y=\"-893.5\" font-family=\"monospace\" font-size=\"10.00\">AccumulateGrad</text>\n</g>\n<!-- 139881662320640&#45;&gt;139881662326640 -->\n<g id=\"edge65\" class=\"edge\">\n<title>139881662320640&#45;&gt;139881662326640</title>\n<path fill=\"none\" stroke=\"black\" d=\"M896.18,-886.39C895.71,-873.86 894.83,-850.3 894.21,-833.57\"/>\n<polygon fill=\"black\" stroke=\"black\" points=\"897.7,-833.16 893.83,-823.3 890.7,-833.42 897.7,-833.16\"/>\n</g>\n<!-- 139881663716688 -->\n<g id=\"node65\" class=\"node\">\n<title>139881663716688</title>\n<polygon fill=\"lightblue\" stroke=\"black\" points=\"935,-1026.5 858,-1026.5 858,-996.5 935,-996.5 935,-1026.5\"/>\n<text text-anchor=\"middle\" x=\"896.5\" y=\"-1014.5\" font-family=\"monospace\" font-size=\"10.00\">fc1.weight</text>\n<text text-anchor=\"middle\" x=\"896.5\" y=\"-1003.5\" font-family=\"monospace\" font-size=\"10.00\"> (64, 256)</text>\n</g>\n<!-- 139881663716688&#45;&gt;139881662320640 -->\n<g id=\"edge66\" class=\"edge\">\n<title>139881663716688&#45;&gt;139881662320640</title>\n<path fill=\"none\" stroke=\"black\" d=\"M896.5,-996.13C896.5,-975.71 896.5,-938.31 896.5,-915.74\"/>\n<polygon fill=\"black\" stroke=\"black\" points=\"900,-915.73 896.5,-905.73 893,-915.73 900,-915.73\"/>\n</g>\n<!-- 139881662320112 -->\n<g id=\"node66\" class=\"node\">\n<title>139881662320112</title>\n<polygon fill=\"lightgrey\" stroke=\"black\" points=\"1244,-586.5 1167,-586.5 1167,-567.5 1244,-567.5 1244,-586.5\"/>\n<text text-anchor=\"middle\" x=\"1205.5\" y=\"-574.5\" font-family=\"monospace\" font-size=\"10.00\">TBackward0</text>\n</g>\n<!-- 139881662320112&#45;&gt;139881662326736 -->\n<g id=\"edge67\" class=\"edge\">\n<title>139881662320112&#45;&gt;139881662326736</title>\n<path fill=\"none\" stroke=\"black\" d=\"M1190.51,-567.39C1181.4,-562.32 1169.45,-555.95 1158.5,-551 1115.25,-531.43 1066.62,-512.43 1023.88,-496.69\"/>\n<polygon fill=\"black\" stroke=\"black\" points=\"1024.89,-493.33 1014.29,-493.18 1022.48,-499.91 1024.89,-493.33\"/>\n</g>\n<!-- 139881662326592 -->\n<g id=\"node67\" class=\"node\">\n<title>139881662326592</title>\n<polygon fill=\"lightgrey\" stroke=\"black\" points=\"1256,-707.5 1155,-707.5 1155,-688.5 1256,-688.5 1256,-707.5\"/>\n<text text-anchor=\"middle\" x=\"1205.5\" y=\"-695.5\" font-family=\"monospace\" font-size=\"10.00\">AccumulateGrad</text>\n</g>\n<!-- 139881662326592&#45;&gt;139881662320112 -->\n<g id=\"edge68\" class=\"edge\">\n<title>139881662326592&#45;&gt;139881662320112</title>\n<path fill=\"none\" stroke=\"black\" d=\"M1205.5,-688.44C1205.5,-669.41 1205.5,-623.19 1205.5,-596.97\"/>\n<polygon fill=\"black\" stroke=\"black\" points=\"1209,-596.8 1205.5,-586.8 1202,-596.8 1209,-596.8\"/>\n</g>\n<!-- 139881836379440 -->\n<g id=\"node68\" class=\"node\">\n<title>139881836379440</title>\n<polygon fill=\"lightblue\" stroke=\"black\" points=\"1244,-828.5 1167,-828.5 1167,-798.5 1244,-798.5 1244,-828.5\"/>\n<text text-anchor=\"middle\" x=\"1205.5\" y=\"-816.5\" font-family=\"monospace\" font-size=\"10.00\">fc2.weight</text>\n<text text-anchor=\"middle\" x=\"1205.5\" y=\"-805.5\" font-family=\"monospace\" font-size=\"10.00\"> (16, 64)</text>\n</g>\n<!-- 139881836379440&#45;&gt;139881662326592 -->\n<g id=\"edge69\" class=\"edge\">\n<title>139881836379440&#45;&gt;139881662326592</title>\n<path fill=\"none\" stroke=\"black\" d=\"M1205.5,-798.13C1205.5,-777.71 1205.5,-740.31 1205.5,-717.74\"/>\n<polygon fill=\"black\" stroke=\"black\" points=\"1209,-717.73 1205.5,-707.73 1202,-717.73 1209,-717.73\"/>\n</g>\n<!-- 139881662332592 -->\n<g id=\"node69\" class=\"node\">\n<title>139881662332592</title>\n<polygon fill=\"lightgrey\" stroke=\"black\" points=\"646,-344.5 569,-344.5 569,-325.5 646,-325.5 646,-344.5\"/>\n<text text-anchor=\"middle\" x=\"607.5\" y=\"-332.5\" font-family=\"monospace\" font-size=\"10.00\">TBackward0</text>\n</g>\n<!-- 139881662332592&#45;&gt;139881662325104 -->\n<g id=\"edge70\" class=\"edge\">\n<title>139881662332592&#45;&gt;139881662325104</title>\n<path fill=\"none\" stroke=\"black\" d=\"M607.5,-325.44C607.5,-316.09 607.5,-300.16 607.5,-283.28\"/>\n<polygon fill=\"black\" stroke=\"black\" points=\"611,-283.26 607.5,-273.26 604,-283.26 611,-283.26\"/>\n</g>\n<!-- 139881662318192 -->\n<g id=\"node70\" class=\"node\">\n<title>139881662318192</title>\n<polygon fill=\"lightgrey\" stroke=\"black\" points=\"655,-465.5 554,-465.5 554,-446.5 655,-446.5 655,-465.5\"/>\n<text text-anchor=\"middle\" x=\"604.5\" y=\"-453.5\" font-family=\"monospace\" font-size=\"10.00\">AccumulateGrad</text>\n</g>\n<!-- 139881662318192&#45;&gt;139881662332592 -->\n<g id=\"edge71\" class=\"edge\">\n<title>139881662318192&#45;&gt;139881662332592</title>\n<path fill=\"none\" stroke=\"black\" d=\"M604.72,-446.44C605.2,-427.41 606.36,-381.19 607.02,-354.97\"/>\n<polygon fill=\"black\" stroke=\"black\" points=\"610.52,-354.89 607.28,-344.8 603.53,-354.71 610.52,-354.89\"/>\n</g>\n<!-- 139881662130160 -->\n<g id=\"node71\" class=\"node\">\n<title>139881662130160</title>\n<polygon fill=\"lightblue\" stroke=\"black\" points=\"619,-592 542,-592 542,-562 619,-562 619,-592\"/>\n<text text-anchor=\"middle\" x=\"580.5\" y=\"-580\" font-family=\"monospace\" font-size=\"10.00\">fc3.weight</text>\n<text text-anchor=\"middle\" x=\"580.5\" y=\"-569\" font-family=\"monospace\" font-size=\"10.00\"> (1, 16)</text>\n</g>\n<!-- 139881662130160&#45;&gt;139881662318192 -->\n<g id=\"edge72\" class=\"edge\">\n<title>139881662130160&#45;&gt;139881662318192</title>\n<path fill=\"none\" stroke=\"black\" d=\"M583.35,-561.88C587.68,-540.41 595.92,-499.52 600.74,-475.64\"/>\n<polygon fill=\"black\" stroke=\"black\" points=\"604.2,-476.21 602.74,-465.71 597.34,-474.82 604.2,-476.21\"/>\n</g>\n</g>\n</svg>\n",
            "text/plain": [
              "<graphviz.graphs.Digraph at 0x7f38bccb34c0>"
            ]
          },
          "metadata": {},
          "execution_count": 162
        }
      ]
    },
    {
      "cell_type": "markdown",
      "id": "79dd087c",
      "metadata": {
        "id": "79dd087c"
      },
      "source": [
        "## Validation functions"
      ]
    },
    {
      "cell_type": "code",
      "source": [
        "# this function is used to get all y_true and y_pred for a certain dataloader\n",
        "# as numpy arrays. this can be useful to caclculate\n",
        "# some metrics from sklearn that don't support batching or tensors\n",
        "\n",
        "def get_all_targets_and_preds(model, dataloader):\n",
        "    model.eval()  # setting model to eval mode\n",
        "    all_preds = []\n",
        "    all_targets = []\n",
        "    with torch.no_grad():\n",
        "        for xb, yb in dataloader:\n",
        "            if device.type != 'cpu':\n",
        "                xb, yb = xb.to(device), yb.to(device)            \n",
        "            ypred = net.forward(xb).reshape(-1)\n",
        "            all_preds.append(np.array(ypred.cpu()))\n",
        "            all_targets.append(np.array(yb.cpu()))\n",
        "    model.train()  # back to train mode\n",
        "    return np.hstack(all_targets), np.hstack(all_preds)"
      ],
      "metadata": {
        "id": "uhvWIVKdu-cq"
      },
      "id": "uhvWIVKdu-cq",
      "execution_count": 163,
      "outputs": []
    },
    {
      "cell_type": "code",
      "source": [
        "# this function computes a loss_fn over a certain dataloader with a given model\n",
        "# this is important in the training loop to monitor the validation loss\n",
        "\n",
        "def evaluate_model(model, dataloader, loss_fn):\n",
        "    total_loss = 0.\n",
        "    total_batches = 0\n",
        "    model.eval()\n",
        "    with torch.no_grad():\n",
        "        for xb, yb in dataloader:\n",
        "            if device.type != 'cpu':\n",
        "                xb, yb = xb.to(device), yb.to(device)\n",
        "            ypred = model.forward(xb).reshape(-1)\n",
        "            loss = loss_fn(ypred, yb)\n",
        "            total_loss += loss.item()\n",
        "            total_batches += 1\n",
        "    model.train()\n",
        "    return total_loss/total_batches"
      ],
      "metadata": {
        "id": "zkfH1nfxuIF3"
      },
      "id": "zkfH1nfxuIF3",
      "execution_count": 164,
      "outputs": []
    },
    {
      "cell_type": "code",
      "source": [
        "# \"strong_up\" (which is our target) isn't distributed evenly\n",
        "# we have to assign higher weights to 1s than to 0s,\n",
        "# otherwise the model may learn to predict 0s always\n",
        "positive_weight = train_tsds.y.mean()  # we're only using train, no leak here\n",
        "positive_weight = torch.tensor((1.-positive_weight) / positive_weight)\n",
        "print(positive_weight)"
      ],
      "metadata": {
        "colab": {
          "base_uri": "https://localhost:8080/"
        },
        "id": "nTt2N60boh0I",
        "outputId": "4abb7c18-4711-49fd-c390-6a198080a674"
      },
      "id": "nTt2N60boh0I",
      "execution_count": 165,
      "outputs": [
        {
          "output_type": "stream",
          "name": "stdout",
          "text": [
            "tensor(4.6401, dtype=torch.float64)\n"
          ]
        }
      ]
    },
    {
      "cell_type": "code",
      "execution_count": 166,
      "id": "292d728a",
      "metadata": {
        "colab": {
          "base_uri": "https://localhost:8080/"
        },
        "id": "292d728a",
        "outputId": "52db78c6-2f62-43d1-a050-f83f08d9ce4b"
      },
      "outputs": [
        {
          "output_type": "stream",
          "name": "stdout",
          "text": [
            "..............\n",
            "epoch #0, train_loss=1.073804, valid_loss=1.123382\n",
            "..............\n",
            "epoch #1, train_loss=1.056630, valid_loss=1.103870\n",
            "..............\n",
            "epoch #2, train_loss=1.047140, valid_loss=1.082533\n",
            "..............\n",
            "epoch #3, train_loss=1.036537, valid_loss=1.054986\n",
            "..............\n",
            "epoch #4, train_loss=1.034260, valid_loss=1.056459\n",
            "..............\n",
            "epoch #5, train_loss=1.040159, valid_loss=1.046743\n",
            "..............\n",
            "epoch #6, train_loss=1.031607, valid_loss=1.047067\n",
            "..............\n",
            "epoch #7, train_loss=1.030399, valid_loss=1.043261\n",
            "..............\n",
            "epoch #8, train_loss=1.028788, valid_loss=1.052492\n",
            "..............\n",
            "epoch #9, train_loss=1.027687, valid_loss=1.036377\n",
            "..............\n",
            "epoch #10, train_loss=1.027805, valid_loss=1.042877\n",
            "..............\n",
            "epoch #11, train_loss=1.028480, valid_loss=1.038197\n",
            "..............\n",
            "epoch #12, train_loss=1.026160, valid_loss=1.042472\n",
            "..............\n",
            "epoch #13, train_loss=1.026345, valid_loss=1.048390\n",
            "..............\n",
            "epoch #14, train_loss=1.026252, valid_loss=1.037835\n",
            "..............\n",
            "epoch #15, train_loss=1.025825, valid_loss=1.038705\n",
            "..............\n",
            "epoch #16, train_loss=1.024927, valid_loss=1.036817\n",
            "..............\n",
            "epoch #17, train_loss=1.031930, valid_loss=1.034597\n",
            "..............\n",
            "epoch #18, train_loss=1.023857, valid_loss=1.034097\n",
            "..............\n",
            "epoch #19, train_loss=1.024302, valid_loss=1.038606\n",
            "..............\n",
            "epoch #20, train_loss=1.024272, valid_loss=1.039282\n",
            "..............\n",
            "epoch #21, train_loss=1.024005, valid_loss=1.045831\n",
            "..............\n",
            "epoch #22, train_loss=1.024496, valid_loss=1.033763\n",
            "..............\n",
            "epoch #23, train_loss=1.024553, valid_loss=1.035661\n",
            "..............\n",
            "epoch #24, train_loss=1.024125, valid_loss=1.032793\n",
            "..............\n",
            "epoch #25, train_loss=1.023277, valid_loss=1.035243\n",
            "..............\n",
            "epoch #26, train_loss=1.025483, valid_loss=1.035672\n",
            "..............\n",
            "epoch #27, train_loss=1.023345, valid_loss=1.037358\n",
            "..............\n",
            "epoch #28, train_loss=1.038191, valid_loss=1.041435\n",
            "..............\n",
            "epoch #29, train_loss=1.023475, valid_loss=1.038694\n"
          ]
        }
      ],
      "source": [
        "# everything more or less standard here, feel free to ask any questions\n",
        "\n",
        "import sys\n",
        "from torch.optim import Adam, SGD\n",
        "\n",
        "verbose = False\n",
        "\n",
        "net = NetV2().to(device)\n",
        "loss_fn = nn.BCEWithLogitsLoss(pos_weight=positive_weight).to(device)\n",
        "optimizer = Adam(params=net.parameters(), lr=0.005)\n",
        "epochs = []\n",
        "train_losses = []\n",
        "valid_losses = []\n",
        "n_epochs = 30\n",
        "\n",
        "for epoch in range(n_epochs):\n",
        "    batch_i = 0\n",
        "    cumulative_loss = 0.\n",
        "    for xb, yb in train_dl:\n",
        "        if device.type != 'cpu':\n",
        "            xb, yb = xb.to(device), yb.to(device)\n",
        "        ypred = net.forward(xb).reshape(-1)\n",
        "        loss = loss_fn(ypred, yb)\n",
        "        loss.backward()\n",
        "        optimizer.step()\n",
        "        optimizer.zero_grad()\n",
        "        cumulative_loss += loss.item()\n",
        "        batch_i += 1\n",
        "        if batch_i % 250 == 0 and verbose:\n",
        "            print(f'{batch_i} batches, loss={cumulative_loss/batch_i:.6f}')\n",
        "        if batch_i % 500 == 0 and not verbose:\n",
        "            print('.', end='')\n",
        "            sys.stdout.flush()\n",
        "    # train_loss = evaluate_model(net, train_dl, loss_fn=loss_fn)\n",
        "    train_loss = cumulative_loss / batch_i\n",
        "    valid_loss = evaluate_model(net, valid_dl, loss_fn=loss_fn)\n",
        "    print(f'\\nepoch #{epoch}, train_loss={train_loss:.6f}, valid_loss={valid_loss:.6f}')\n",
        "    epochs.append(epoch)\n",
        "    train_losses.append(train_loss)\n",
        "    valid_losses.append(valid_loss)"
      ]
    },
    {
      "cell_type": "code",
      "source": [],
      "metadata": {
        "id": "4ifqwdWlt_As"
      },
      "id": "4ifqwdWlt_As",
      "execution_count": null,
      "outputs": []
    },
    {
      "cell_type": "code",
      "source": [
        "torch.save(net, 'drive/MyDrive/net_v2_b5.pt')"
      ],
      "metadata": {
        "id": "FmnRjSod9vwA"
      },
      "id": "FmnRjSod9vwA",
      "execution_count": 167,
      "outputs": []
    },
    {
      "cell_type": "code",
      "source": [
        "# net = torch.load('drive/MyDrive/net_v2_b2.pt')"
      ],
      "metadata": {
        "id": "DAnhJe9e8kmY"
      },
      "id": "DAnhJe9e8kmY",
      "execution_count": null,
      "outputs": []
    },
    {
      "cell_type": "code",
      "source": [
        "# training history\n",
        "plt.figure(figsize=(10,7))\n",
        "plt.plot(epochs, [x for x in valid_losses], label='val_loss')\n",
        "plt.plot(epochs, [x for x in train_losses], label='train_loss')\n",
        "plt.legend();"
      ],
      "metadata": {
        "colab": {
          "base_uri": "https://localhost:8080/",
          "height": 599
        },
        "id": "3eJJXVlK8LtI",
        "outputId": "d36cec4a-59de-45d6-d9c6-369a792bba37"
      },
      "id": "3eJJXVlK8LtI",
      "execution_count": 168,
      "outputs": [
        {
          "output_type": "display_data",
          "data": {
            "text/plain": [
              "<Figure size 1000x700 with 1 Axes>"
            ],
            "image/png": "[encoded data removed]"
          },
          "metadata": {}
        }
      ]
    },
    {
      "cell_type": "code",
      "source": [],
      "metadata": {
        "id": "Uu53RGf00QQI"
      },
      "id": "Uu53RGf00QQI",
      "execution_count": 168,
      "outputs": []
    },
    {
      "cell_type": "code",
      "source": [
        "from sklearn.metrics import roc_curve, auc\n",
        "\n",
        "def plot_roc_auc(y_true, y_pred):\n",
        "    fpr, tpr, _ = roc_curve(y_true, y_pred)\n",
        "    roc_auc = auc(fpr, tpr)\n",
        "\n",
        "    plt.figure(figsize=(7,7))\n",
        "    plt.plot([0, 1], [0, 1], '--', color='darkgrey', label='Chance level (AUC = 0.50)')\n",
        "    plt.plot(fpr, tpr, color='darkorange', lw=2, label='ROC curve (area = %0.3f)' % roc_auc)\n",
        "    plt.xlim([0.0, 1.0])\n",
        "    plt.ylim([0.0, 1.05])\n",
        "    plt.xlabel('False Positive Rate')\n",
        "    plt.ylabel('True Positive Rate')\n",
        "    plt.title('Receiver Operating Characteristic')\n",
        "    plt.legend(loc=\"lower right\")\n",
        "    plt.show()"
      ],
      "metadata": {
        "id": "u50fNDUL2lPT"
      },
      "id": "u50fNDUL2lPT",
      "execution_count": 169,
      "outputs": []
    },
    {
      "cell_type": "code",
      "source": [
        "valid_targets, valid_preds = get_all_targets_and_preds(model=net.to('cuda'), dataloader=valid_dl)"
      ],
      "metadata": {
        "id": "4ZPzEc9i0izR"
      },
      "id": "4ZPzEc9i0izR",
      "execution_count": 170,
      "outputs": []
    },
    {
      "cell_type": "code",
      "source": [
        "plot_roc_auc(y_true=valid_targets, y_pred=valid_preds)"
      ],
      "metadata": {
        "colab": {
          "base_uri": "https://localhost:8080/",
          "height": 472
        },
        "id": "UUijPRh1vwQH",
        "outputId": "719eb3f9-9286-40c7-c28e-4e7e79d4753c"
      },
      "id": "UUijPRh1vwQH",
      "execution_count": 171,
      "outputs": [
        {
          "output_type": "display_data",
          "data": {
            "text/plain": [
              "<Figure size 640x480 with 1 Axes>"
            ],
            "image/png": "[encoded data removed]"
          },
          "metadata": {}
        }
      ]
    },
    {
      "cell_type": "code",
      "source": [
        "## it's not much, but it's honest work"
      ],
      "metadata": {
        "id": "43nLiTCr1N9I"
      },
      "id": "43nLiTCr1N9I",
      "execution_count": 195,
      "outputs": []
    },
    {
      "cell_type": "code",
      "source": [
        "top_k = 5000\n",
        "top_indices = np.argsort(valid_preds)[-top_k:]\n",
        "cnt_strong_up = 0\n",
        "for ix in top_indices:\n",
        "    cnt_strong_up += valid_tsds[ix][1]\n",
        "print(cnt_strong_up/top_k, valid_tsds.y.mean())\n",
        "# basically, there's an event that has a 17% probability to occur,\n",
        "# but given the model's signal, this becomes a conditional probability of 44%\n",
        "# which sounds better than random, right? this can't be just noise "
      ],
      "metadata": {
        "colab": {
          "base_uri": "https://localhost:8080/"
        },
        "id": "0JL1tdNTwVZ-",
        "outputId": "23be0b7d-8586-4944-dd5f-6ecb204efc75"
      },
      "id": "0JL1tdNTwVZ-",
      "execution_count": 207,
      "outputs": [
        {
          "output_type": "stream",
          "name": "stdout",
          "text": [
            "0.4448 0.171252\n"
          ]
        }
      ]
    },
    {
      "cell_type": "code",
      "source": [
        "# let's see the distribution of predicted logits\n",
        "np.sort(valid_preds)[-5000:].min(), np.sort(valid_preds)[-500:].min(), np.sort(valid_preds)[-50:].min()"
      ],
      "metadata": {
        "colab": {
          "base_uri": "https://localhost:8080/"
        },
        "id": "5PdtBqbZIyCz",
        "outputId": "a5e3c241-e46c-47e1-f3a9-f95674d34530"
      },
      "id": "5PdtBqbZIyCz",
      "execution_count": 208,
      "outputs": [
        {
          "output_type": "execute_result",
          "data": {
            "text/plain": [
              "(0.7817699, 1.446073, 4.4164476)"
            ]
          },
          "metadata": {},
          "execution_count": 208
        }
      ]
    },
    {
      "cell_type": "markdown",
      "source": [
        "## Trading simulation"
      ],
      "metadata": {
        "id": "GDBZCpry-VY1"
      },
      "id": "GDBZCpry-VY1"
    },
    {
      "cell_type": "code",
      "source": [
        "# here is a simple trading experiment where we buy whenever the model tells to buy just to sell 3 ticks later\n",
        "SELL_LAG_EXPERIMENT = SELL_LAG\n",
        "SELL_LAG_EXPERIMENT"
      ],
      "metadata": {
        "colab": {
          "base_uri": "https://localhost:8080/"
        },
        "id": "INxqwDDvN5Uc",
        "outputId": "5af4854e-b7b1-4a28-d65c-b1293108be64"
      },
      "id": "INxqwDDvN5Uc",
      "execution_count": 182,
      "outputs": [
        {
          "output_type": "execute_result",
          "data": {
            "text/plain": [
              "3"
            ]
          },
          "metadata": {},
          "execution_count": 182
        }
      ]
    },
    {
      "cell_type": "code",
      "source": [
        "def trading_experiment(tsds, preds, initial_balance=1000.):\n",
        "    log = ''\n",
        "    balance_usd = initial_balance\n",
        "    balance_btc = 0.   # we have only btc initially\n",
        "    sell_orders = dict()  # dict of {index when to sell: how much btc to sell}\n",
        "    balances_usd = []\n",
        "    indices = range(len(tsds))\n",
        "    for ix in indices:\n",
        "        pred = preds[ix]\n",
        "        x, y = tsds[ix]\n",
        "        btcusd = float(x[-1])\n",
        "        usdbtc = 1. / btcusd\n",
        "        usd_to_spend = 0.\n",
        "        if ix in sell_orders.keys():\n",
        "            btc_to_sell = sell_orders.pop(ix)\n",
        "            usd_added = btc_to_sell * btcusd\n",
        "            balance_btc -= btc_to_sell\n",
        "            balance_usd += usd_added\n",
        "            log += f'sold {btc_to_sell:.5f} btc for {usd_added:.2f} usd\\n'\n",
        "            log += f'ix={ix}, balance: {balance_usd:.2f} usd, {balance_btc:.5f} btc\\n'\n",
        "        if pred > 2.:   # NB: preds are raw logits, without a sigmoid\n",
        "            usd_to_spend = 0.5 * balance_usd  # for a strong signal, buy btc for 50% the bank\n",
        "        if pred > 0.3:\n",
        "            usd_to_spend = 0.25 * balance_usd # for a weaker signal, buy btc for 25% the bank\n",
        "            btc_added = usdbtc * usd_to_spend\n",
        "            balance_usd -= usd_to_spend\n",
        "            balance_btc += btc_added\n",
        "            # sell SELL_LAG minutes later\n",
        "            sell_orders[ix+SELL_LAG_EXPERIMENT] = sell_orders.get(ix+SELL_LAG_EXPERIMENT, 0) + btc_added  \n",
        "            log += f'bought {btc_added:.5f} btc for {usd_to_spend:.2f} usd\\n'\n",
        "            log += f'ix={ix}, balance: {balance_usd:.2f} usd, {balance_btc:.5f} btc, sell_orders: {sell_orders}\\n'\n",
        "        balances_usd.append(balance_usd)\n",
        "    return indices, balances_usd, log"
      ],
      "metadata": {
        "id": "o-oO08rII22m"
      },
      "id": "o-oO08rII22m",
      "execution_count": 219,
      "outputs": []
    },
    {
      "cell_type": "code",
      "source": [
        "indices_valid, balances_valid, log_valid = trading_experiment(tsds=valid_tsds, preds=valid_preds, initial_balance=1000.)\n",
        "print('\\n'.join(log_valid.split('\\n')[-50:]))"
      ],
      "metadata": {
        "colab": {
          "base_uri": "https://localhost:8080/"
        },
        "id": "N2NfWMJo58D1",
        "outputId": "993a4651-6918-40bb-992f-ed4f56b433c5"
      },
      "id": "N2NfWMJo58D1",
      "execution_count": 220,
      "outputs": [
        {
          "output_type": "stream",
          "name": "stdout",
          "text": [
            "ix=499388, balance: 1418.80 usd, 0.02001 btc\n",
            "bought 0.01015 btc for 354.70 usd\n",
            "ix=499388, balance: 1064.10 usd, 0.03016 btc, sell_orders: {499389: 0.009980238066526493, 499390: 0.010029342888576986, 499391: 0.010150468957986132}\n",
            "sold 0.00998 btc for 348.90 usd\n",
            "ix=499389, balance: 1413.00 usd, 0.02018 btc\n",
            "bought 0.01010 btc for 353.25 usd\n",
            "ix=499389, balance: 1059.75 usd, 0.03028 btc, sell_orders: {499390: 0.010029342888576986, 499391: 0.010150468957986132, 499392: 0.010104661770842016}\n",
            "sold 0.01003 btc for 351.59 usd\n",
            "ix=499390, balance: 1411.34 usd, 0.02026 btc\n",
            "bought 0.01006 btc for 352.83 usd\n",
            "ix=499390, balance: 1058.50 usd, 0.03032 btc, sell_orders: {499391: 0.010150468957986132, 499392: 0.010104661770842016, 499393: 0.010064866551194153}\n",
            "sold 0.01015 btc for 355.47 usd\n",
            "ix=499391, balance: 1413.97 usd, 0.02017 btc\n",
            "bought 0.01009 btc for 353.49 usd\n",
            "ix=499391, balance: 1060.48 usd, 0.03026 btc, sell_orders: {499392: 0.010104661770842016, 499393: 0.010064866551194153, 499394: 0.010094065820754925}\n",
            "sold 0.01010 btc for 353.21 usd\n",
            "ix=499392, balance: 1413.69 usd, 0.02016 btc\n",
            "bought 0.01011 btc for 353.42 usd\n",
            "ix=499392, balance: 1060.26 usd, 0.03027 btc, sell_orders: {499393: 0.010064866551194153, 499394: 0.010094065820754925, 499395: 0.010110723078076561}\n",
            "sold 0.01006 btc for 351.83 usd\n",
            "ix=499393, balance: 1412.10 usd, 0.02020 btc\n",
            "bought 0.01010 btc for 353.02 usd\n",
            "ix=499393, balance: 1059.07 usd, 0.03030 btc, sell_orders: {499394: 0.010094065820754925, 499395: 0.010110723078076561, 499396: 0.010098959823033164}\n",
            "sold 0.01009 btc for 353.09 usd\n",
            "ix=499394, balance: 1412.16 usd, 0.02021 btc\n",
            "sold 0.01011 btc for 354.08 usd\n",
            "ix=499395, balance: 1766.24 usd, 0.01010 btc\n",
            "sold 0.01010 btc for 353.17 usd\n",
            "ix=499396, balance: 2119.41 usd, 0.00000 btc\n",
            "bought 0.01516 btc for 529.85 usd\n",
            "ix=499403, balance: 1589.56 usd, 0.01516 btc, sell_orders: {499406: 0.015163534355410986}\n",
            "bought 0.01135 btc for 397.39 usd\n",
            "ix=499404, balance: 1192.17 usd, 0.02651 btc, sell_orders: {499406: 0.015163534355410986, 499407: 0.011351125544027103}\n",
            "bought 0.00849 btc for 298.04 usd\n",
            "ix=499405, balance: 894.12 usd, 0.03501 btc, sell_orders: {499406: 0.015163534355410986, 499407: 0.011351125544027103, 499408: 0.008493457761538094}\n",
            "sold 0.01516 btc for 530.55 usd\n",
            "ix=499406, balance: 1424.67 usd, 0.01984 btc\n",
            "sold 0.01135 btc for 397.11 usd\n",
            "ix=499407, balance: 1821.78 usd, 0.00849 btc\n",
            "sold 0.00849 btc for 296.88 usd\n",
            "ix=499408, balance: 2118.66 usd, 0.00000 btc\n",
            "bought 0.01489 btc for 529.67 usd\n",
            "ix=499702, balance: 1589.00 usd, 0.01489 btc, sell_orders: {499705: 0.014885511692520299}\n",
            "bought 0.01115 btc for 397.25 usd\n",
            "ix=499703, balance: 1191.75 usd, 0.02604 btc, sell_orders: {499705: 0.014885511692520299, 499706: 0.011151168551243333}\n",
            "sold 0.01489 btc for 529.39 usd\n",
            "ix=499705, balance: 1721.13 usd, 0.01115 btc\n",
            "sold 0.01115 btc for 396.54 usd\n",
            "ix=499706, balance: 2117.67 usd, 0.00000 btc\n",
            "\n"
          ]
        }
      ]
    },
    {
      "cell_type": "code",
      "source": [
        "plt.figure(figsize=(9,7))\n",
        "plt.plot(indices_valid, balances_valid)\n",
        "start = df_valid.iloc[0]['date'].split()[0]\n",
        "end = df_valid.iloc[-1]['date'].split()[0]\n",
        "plt.title(f'trading experiment on validation data ({start} - {end})')\n",
        "plt.xlabel('minute no.');\n",
        "plt.ylabel('USD balance');"
      ],
      "metadata": {
        "colab": {
          "base_uri": "https://localhost:8080/",
          "height": 641
        },
        "id": "ZB1GGov_aO5j",
        "outputId": "eec4591e-ad37-432c-b003-81ed86e58159"
      },
      "id": "ZB1GGov_aO5j",
      "execution_count": 221,
      "outputs": [
        {
          "output_type": "display_data",
          "data": {
            "text/plain": [
              "<Figure size 900x700 with 1 Axes>"
            ],
            "image/png": "[encoded data removed]"
          },
          "metadata": {}
        }
      ]
    },
    {
      "cell_type": "code",
      "source": [
        "before = float(valid_tsds.X[0])\n",
        "after = float(valid_tsds.X[-1])\n",
        "print(before, after, after/before)\n",
        "# clearly, just buying and hodling all the way would be better and would leave us\n",
        "# with 3700 in the bank insead of 2100 yielded by our algorithm\n",
        "# but short term buying and almost immediate selling can be considered safer\n",
        "# if you're not a bitcoin maximalist like Michael Saylor"
      ],
      "metadata": {
        "colab": {
          "base_uri": "https://localhost:8080/"
        },
        "id": "DSu0OWZraUYl",
        "outputId": "cb5c8567-26c6-43c8-d150-fda847652542"
      },
      "id": "DSu0OWZraUYl",
      "execution_count": 222,
      "outputs": [
        {
          "output_type": "stream",
          "name": "stdout",
          "text": [
            "9660.5595703125 35946.9609375 3.721001943610725\n"
          ]
        }
      ]
    },
    {
      "cell_type": "markdown",
      "source": [
        "## Same but on TEST dataset"
      ],
      "metadata": {
        "id": "jsxcExfMaX83"
      },
      "id": "jsxcExfMaX83"
    },
    {
      "cell_type": "code",
      "source": [
        "test_targets, test_preds = get_all_targets_and_preds(model=net.to('cuda'), dataloader=test_dl)"
      ],
      "metadata": {
        "id": "Q2d-9woWaOGe"
      },
      "id": "Q2d-9woWaOGe",
      "execution_count": 223,
      "outputs": []
    },
    {
      "cell_type": "code",
      "source": [
        "indices_test, balances_test, log_test = trading_experiment(tsds=test_tsds, preds=test_preds, initial_balance=1000.)"
      ],
      "metadata": {
        "id": "SLesFYNUEb6L"
      },
      "id": "SLesFYNUEb6L",
      "execution_count": 224,
      "outputs": []
    },
    {
      "cell_type": "code",
      "source": [
        "plt.figure(figsize=(9,7))\n",
        "plt.plot(indices_test, balances_test)\n",
        "start = df_test.iloc[0]['date'].split()[0]\n",
        "end = df_test.iloc[-1]['date'].split()[0]\n",
        "plt.title(f'trading experiment on test data ({start} - {end})')\n",
        "plt.xlabel('minute no.');\n",
        "plt.ylabel('USD balance');"
      ],
      "metadata": {
        "id": "ZNyQEv9LGSWv",
        "colab": {
          "base_uri": "https://localhost:8080/",
          "height": 641
        },
        "outputId": "f1ac06f8-f593-493e-e50e-0356399107d8"
      },
      "id": "ZNyQEv9LGSWv",
      "execution_count": 213,
      "outputs": [
        {
          "output_type": "display_data",
          "data": {
            "text/plain": [
              "<Figure size 900x700 with 1 Axes>"
            ],
            "image/png": "[encoded data removed]"
          },
          "metadata": {}
        }
      ]
    },
    {
      "cell_type": "code",
      "source": [
        "# on test, trading with this algorithm would give slighly better returns than maintaining\n",
        "# a long position all the way through\n",
        "before = float(test_tsds.X[0])\n",
        "after = float(test_tsds.X[-1])\n",
        "before, after, after/before"
      ],
      "metadata": {
        "id": "mKsujP3DEd3i",
        "colab": {
          "base_uri": "https://localhost:8080/"
        },
        "outputId": "491f90b4-bd82-4b97-b57b-7627cb0b2a3a"
      },
      "id": "mKsujP3DEd3i",
      "execution_count": 225,
      "outputs": [
        {
          "output_type": "execute_result",
          "data": {
            "text/plain": [
              "(35900.3515625, 43046.578125, 1.199057286390606)"
            ]
          },
          "metadata": {},
          "execution_count": 225
        }
      ]
    },
    {
      "cell_type": "markdown",
      "source": [
        "## Final considerations"
      ],
      "metadata": {
        "id": "vv4c8F99G1o5"
      },
      "id": "vv4c8F99G1o5"
    },
    {
      "cell_type": "markdown",
      "source": [
        "1. **I believe there is no data leak here.** In time series data, and particularly in our case, we have access to all the data up to a point when the model makes the prediction, so the only possible data leak is the type of data leak where the future becomes known to the model. I have done my best to ensure this doesn't happen. "
      ],
      "metadata": {
        "id": "9JKsXg-QG6pV"
      },
      "id": "9JKsXg-QG6pV"
    },
    {
      "cell_type": "markdown",
      "source": [
        "2. The model is very simple, and there's much space for improvement. **RNNs **such as LSTM or GRU would probably work better, while also being more computationally demanding. What's more important, RNNs would require an even more care and vigilance in terms of forward-looking leaks (discussed just above). I'd be glad to try them instead if you are interested in expanding on this work."
      ],
      "metadata": {
        "id": "6hz30weLG6lx"
      },
      "id": "6hz30weLG6lx"
    },
    {
      "cell_type": "markdown",
      "source": [
        "3. Other than improving the architecture of the network, there's another way that could drastically increase the model performance: enriching data. This would include taking **trading volume** into the account, as well as certain repetitive, seasonal patterns (**part of the year, day of the week, time of day**). Finally, taking the very basic **sentiment from twitter** could further improve the model quality, however it's important to notice that our model focuses on very fast-paced trading (2 minutes long positions), so the sentiment would be lagging behind and would be only providing the general atmosphere, similar to the weekday. "
      ],
      "metadata": {
        "id": "QGh_q8VvIa3C"
      },
      "id": "QGh_q8VvIa3C"
    },
    {
      "cell_type": "markdown",
      "source": [
        "4. It's hard to evaluate whether the model and the trading algorithm based on it has any value, because as shown it is not significantly better than maintaining a long position or HODLing, as they say. The algorithm, of course, could be supercharged and allowed to trade with leverage. **Judging by the roc curve,** I believe my model to be **significantly better than random noise** - again, supposing there are no data leaks that would ruin the whole solution. "
      ],
      "metadata": {
        "id": "BeV_qbe_JZDN"
      },
      "id": "BeV_qbe_JZDN"
    },
    {
      "cell_type": "markdown",
      "source": [
        "5. The value of the trading algorithm is diminished when we consider actual trading platforms that have **some sorts of fees, commissions, spreads between the buy price and the sell price**, and other forms of financial overhead. With these additional spendings, the net profit from this algorithm could turn out to be negative."
      ],
      "metadata": {
        "id": "G0EyedQKK5yB"
      },
      "id": "G0EyedQKK5yB"
    },
    {
      "cell_type": "markdown",
      "source": [
        "6. It is important to note that **the test dataset** was never used bold text on tuning any parameters or hyperparameters of the neural network or the trading algorithm, and **was only used for the final trading experiment**, thus making the results more trustworthy."
      ],
      "metadata": {
        "id": "NjXYyhf2KT7j"
      },
      "id": "NjXYyhf2KT7j"
    },
    {
      "cell_type": "code",
      "source": [],
      "metadata": {
        "id": "sZkTDPeNMhhz"
      },
      "id": "sZkTDPeNMhhz",
      "execution_count": null,
      "outputs": []
    }
  ],
  "metadata": {
    "kernelspec": {
      "display_name": "Python 3",
      "name": "python3"
    },
    "language_info": {
      "codemirror_mode": {
        "name": "ipython",
        "version": 3
      },
      "file_extension": ".py",
      "mimetype": "text/x-python",
      "name": "python",
      "nbconvert_exporter": "python",
      "pygments_lexer": "ipython3",
      "version": "3.10.6"
    },
    "colab": {
      "provenance": [],
      "gpuType": "T4"
    },
    "accelerator": "GPU"
  },
  "nbformat": 4,
  "nbformat_minor": 5
}